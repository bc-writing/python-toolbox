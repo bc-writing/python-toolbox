{
 "metadata": {
  "kernelspec": {
   "display_name": "Python 3",
   "language": "python",
   "name": "python3"
  },
  "language_info": {
   "codemirror_mode": {
    "name": "ipython",
    "version": 3
   },
   "file_extension": ".py",
   "mimetype": "text/x-python",
   "name": "python",
   "nbconvert_exporter": "python",
   "pygments_lexer": "ipython3",
   "version": "3.4.3"
  },
  "name": "",
  "signature": "sha256:bc36197315bc5eacc1165df92d32babf029e15fbb2baeefb20e1680e64a29658"
 },
 "nbformat": 3,
 "nbformat_minor": 0,
 "worksheets": [
  {
   "cells": [
    {
     "cell_type": "markdown",
     "metadata": {},
     "source": [
      "Textes\n",
      "======\n",
      "\n",
      "Cr\u00e9er une variable contenant du texte\n",
      "-------------------------------------\n",
      "\n",
      "Vous disposez deux types de guillemets simples `'...'` et `\"...\"` pour taper directement dans le code du texte, sans retour \u00e0 la ligne. Voici deux exemples."
     ]
    },
    {
     "cell_type": "code",
     "collapsed": false,
     "input": [
      "une_ligne = 'Que dire, je ne sais pas !'\n",
      "une_autre_ligne = \"Toujours en manque d'inspiration...\"\n",
      "\n",
      "print(une_ligne)\n",
      "print(une_autre_ligne)"
     ],
     "language": "python",
     "metadata": {
      "slideshow": {
       "slide_type": "slide"
      }
     },
     "outputs": [
      {
       "output_type": "stream",
       "stream": "stdout",
       "text": [
        "Que dire, je ne sais pas !\n",
        "Toujours en manque d'inspiration...\n"
       ]
      }
     ],
     "prompt_number": 10
    },
    {
     "cell_type": "markdown",
     "metadata": {},
     "source": [
      "Le code suivant montre que les guillemets simples ne permettent pas de taper directement un texte sur plusieurs lignes *(dans le message d'erreur ci-dessous, `EOL` est l'acronyme de \"End Of Line\" soit \"fin de ligne\" en fran\u00e7ais)*."
     ]
    },
    {
     "cell_type": "code",
     "collapsed": false,
     "input": [
      "interdit = \"Ce qui est tap\u00e9\n",
      "ici n'est pas autoris\u00e9 !\""
     ],
     "language": "python",
     "metadata": {},
     "outputs": [
      {
       "ename": "SyntaxError",
       "evalue": "EOL while scanning string literal (<ipython-input-11-21d1c80e2827>, line 1)",
       "output_type": "pyerr",
       "traceback": [
        "\u001b[0;36m  File \u001b[0;32m\"<ipython-input-11-21d1c80e2827>\"\u001b[0;36m, line \u001b[0;32m1\u001b[0m\n\u001b[0;31m    interdit = \"Ce qui est tap\u00e9\u001b[0m\n\u001b[0m                               ^\u001b[0m\n\u001b[0;31mSyntaxError\u001b[0m\u001b[0;31m:\u001b[0m EOL while scanning string literal\n"
       ]
      }
     ],
     "prompt_number": 11
    },
    {
     "cell_type": "markdown",
     "metadata": {},
     "source": [
      "D\u00e9finir du texte avec des retours \u00e0 la ligne\n",
      "--------------------------------------------\n",
      "\n",
      "Les triples guillemets `'''...'''` et `\"\"\"...\"\"\"` permettent d'\u00e9crire du texte contenant des retours \u00e0 la ligne. "
     ]
    },
    {
     "cell_type": "code",
     "collapsed": false,
     "input": [
      "retours_a_ligne = \"\"\"Ce que j'ai tap\u00e9\n",
      "est valide\n",
      "maintenant.\"\"\"\n",
      "\n",
      "print(retours_a_ligne)"
     ],
     "language": "python",
     "metadata": {},
     "outputs": [
      {
       "output_type": "stream",
       "stream": "stdout",
       "text": [
        "Ce que j'ai tap\u00e9\n",
        "est valide\n",
        "maintenant.\n"
       ]
      }
     ],
     "prompt_number": 12
    },
    {
     "cell_type": "markdown",
     "metadata": {},
     "source": [
      "C'est quoi une cha\u00eene pour Python ?\n",
      "-----------------------------------\n",
      "\n",
      "Les textes sont des instances de la classe `str` pour \"string\" soit \"cha\u00eene\" de caract\u00e8res. "
     ]
    },
    {
     "cell_type": "code",
     "collapsed": false,
     "input": [
      "print(type(\"Je suis une cha\u00eene de caract\u00e8res.\"))"
     ],
     "language": "python",
     "metadata": {},
     "outputs": [
      {
       "output_type": "stream",
       "stream": "stdout",
       "text": [
        "<class 'str'>\n"
       ]
      }
     ],
     "prompt_number": 13
    },
    {
     "cell_type": "markdown",
     "metadata": {},
     "source": [
      "Accoler diff\u00e9rents textes les uns apr\u00e8s les autres\n",
      "--------------------------------------------------\n",
      "\n",
      "Pour faire ceci du point de vue de Python, on parle plus techniquement de concat\u00e9nation de cha\u00eenes de caract\u00e8res, il suffit d'additionner des cha\u00eenes."
     ]
    },
    {
     "cell_type": "code",
     "collapsed": false,
     "input": [
      "sujet = \"Je\"\n",
      "verbe = \"suis\"\n",
      "cod   = \"lui\"\n",
      "\n",
      "phrase = sujet + \" \" + verbe + \" \" + cod + \".\"\n",
      "\n",
      "print(phrase)"
     ],
     "language": "python",
     "metadata": {},
     "outputs": [
      {
       "output_type": "stream",
       "stream": "stdout",
       "text": [
        "Je suis lui.\n"
       ]
      }
     ],
     "prompt_number": 14
    },
    {
     "cell_type": "markdown",
     "metadata": {},
     "source": [
      "Il existe un racourci pour additionner plusieurs fois de suite la m\u00eame cha\u00eene de caract\u00e8res."
     ]
    },
    {
     "cell_type": "code",
     "collapsed": false,
     "input": [
      "drole      = \"ah\"\n",
      "tres_drole = drole*3   # 3 fois de suite.\n",
      "hilarant   = drole*12  # 12 fois de suite.\n",
      "\n",
      "print(\"drole      :\", drole)\n",
      "print(\"tres_drole :\", tres_drole)\n",
      "print(\"hilarant   :\", hilarant)"
     ],
     "language": "python",
     "metadata": {},
     "outputs": [
      {
       "output_type": "stream",
       "stream": "stdout",
       "text": [
        "drole      : ah\n",
        "tres_drole : ahahah\n",
        "hilarant   : ahahahahahahahahahahahah\n"
       ]
      }
     ],
     "prompt_number": 15
    },
    {
     "cell_type": "markdown",
     "metadata": {},
     "source": [
      "Extraire une lettre d'un texte\n",
      "------------------------------\n",
      "\n",
      "Tout se fait assez naturellement d\u00e8s lors que l'on sait qu'un premier caract\u00e8re aura la position $0$ et non $1$."
     ]
    },
    {
     "cell_type": "code",
     "collapsed": false,
     "input": [
      "alphabet = \"abcdefghijklmnopqrstuvwxyz\"\n",
      "\n",
      "# Les crochets permettent d'indiquer une position.\n",
      "premiere_lettre  = alphabet[0]\n",
      "troisieme_lettre = alphabet[2]\n",
      "\n",
      "# Une valeur n\u00e9gative peut-\u00eatre utilis\u00e9e pour partir\n",
      "# de la fin, la derni\u00e8re lettre ayant le num\u00e9ro (-1).\n",
      "derniere_lettre       = alphabet[-1]\n",
      "antepenultieme_lettre = alphabet[-3]\n",
      "\n",
      "# V\u00e9rifications\n",
      "print(\"premiere_lettre       :\", premiere_lettre)\n",
      "print(\"troisieme_lettre      :\", troisieme_lettre)\n",
      "\n",
      "print(\"derniere_lettre       :\", derniere_lettre)\n",
      "print(\"antepenultieme_lettre :\", antepenultieme_lettre)"
     ],
     "language": "python",
     "metadata": {},
     "outputs": [
      {
       "output_type": "stream",
       "stream": "stdout",
       "text": [
        "premiere_lettre       : a\n",
        "troisieme_lettre      : c\n",
        "derniere_lettre       : z\n",
        "antepenultieme_lettre : x\n"
       ]
      }
     ],
     "prompt_number": 16
    },
    {
     "cell_type": "markdown",
     "metadata": {},
     "source": [
      "Extraire un groupe de lettres d'un texte\n",
      "----------------------------------------\n",
      "\n",
      "De nouveau, on va utiliser des crochets."
     ]
    },
    {
     "cell_type": "code",
     "collapsed": false,
     "input": [
      "alphabet = \"abcdefghijklmnopqrstuvwxyz\"\n",
      "\n",
      "# Ci-dessous, dans `[4:7]` on peut \u00eatre \u00e9tonn\u00e9 de voir `7`\n",
      "# et non `6`. Ce qui va suivre montrera que ceci n'est pas\n",
      "# qu'une simple convention. \n",
      "les_trois_lettres_apres_le_D = alphabet[4:7]\n",
      "\n",
      "# Ci-apr\u00e8s, l'absence d'un second entier dans `[7:]` indique\n",
      "# d'aller jusqu'\u00e0 la fin de la cha\u00eene de caract\u00e8res. \n",
      "les_lettres_apres_le_G = alphabet[7:]\n",
      "\n",
      "# On peut utiliser une convention analogue \u00e0 la pr\u00e9c\u00e9dente en\n",
      "# omettant le premier entier pour partir du tout d\u00e9but de la\n",
      "# cha\u00eene de caract\u00e8res.\n",
      "les_lettres_avant_le_E = alphabet[:4]\n",
      "\n",
      "# V\u00e9rifications\n",
      "print(\"les_lettres_vant_le_E        :\", les_lettres_avant_le_E)\n",
      "print(\"les_trois_lettres_apres_le_D :\", les_trois_lettres_apres_le_D)\n",
      "print(\"les_lettres_apres_le_G       :\", les_lettres_apres_le_G)"
     ],
     "language": "python",
     "metadata": {},
     "outputs": [
      {
       "output_type": "stream",
       "stream": "stdout",
       "text": [
        "les_lettres_vant_le_E        : abcd\n",
        "les_trois_lettres_apres_le_D : efg\n",
        "les_lettres_apres_le_G       : hijklmnopqrstuvwxyz\n"
       ]
      }
     ],
     "prompt_number": 17
    },
    {
     "cell_type": "markdown",
     "metadata": {},
     "source": [
      "Modifier un texte caract\u00e8re par caract\u00e8re\n",
      "-----------------------------------------\n",
      "\n",
      "**Il est impossible de modifier directement un caract\u00e8re** d'une chaine de caract\u00e8res comme le montre l'exemple ci-dessous."
     ]
    },
    {
     "cell_type": "code",
     "collapsed": false,
     "input": [
      "texte = \"Testons l'impossible...\"\n",
      "\n",
      "texte[0] = \"Z\"\n",
      "print(texte)"
     ],
     "language": "python",
     "metadata": {},
     "outputs": [
      {
       "ename": "TypeError",
       "evalue": "'str' object does not support item assignment",
       "output_type": "pyerr",
       "traceback": [
        "\u001b[0;31m---------------------------------------------------------------------------\u001b[0m",
        "\u001b[0;31mTypeError\u001b[0m                                 Traceback (most recent call last)",
        "\u001b[0;32m<ipython-input-18-a24373db672e>\u001b[0m in \u001b[0;36m<module>\u001b[0;34m()\u001b[0m\n\u001b[1;32m      1\u001b[0m \u001b[0mtexte\u001b[0m \u001b[0;34m=\u001b[0m \u001b[0;34m\"Testons l'impossible...\"\u001b[0m\u001b[0;34m\u001b[0m\u001b[0m\n\u001b[1;32m      2\u001b[0m \u001b[0;34m\u001b[0m\u001b[0m\n\u001b[0;32m----> 3\u001b[0;31m \u001b[0mtexte\u001b[0m\u001b[0;34m[\u001b[0m\u001b[0;36m0\u001b[0m\u001b[0;34m]\u001b[0m \u001b[0;34m=\u001b[0m \u001b[0;34m\"Z\"\u001b[0m\u001b[0;34m\u001b[0m\u001b[0m\n\u001b[0m\u001b[1;32m      4\u001b[0m \u001b[0mprint\u001b[0m\u001b[0;34m(\u001b[0m\u001b[0mtexte\u001b[0m\u001b[0;34m)\u001b[0m\u001b[0;34m\u001b[0m\u001b[0m\n",
        "\u001b[0;31mTypeError\u001b[0m: 'str' object does not support item assignment"
       ]
      }
     ],
     "prompt_number": 18
    },
    {
     "cell_type": "markdown",
     "metadata": {},
     "source": [
      "Pour changer la premi\u00e8re lettre de notre texte, il va falloir proc\u00e9der d'une fa\u00e7on analogue \u00e0 la suivante. "
     ]
    },
    {
     "cell_type": "code",
     "collapsed": false,
     "input": [
      "texte = \"Testons l'impossible...\"\n",
      "\n",
      "texte = \"Z\" + texte[1:]\n",
      "print(texte)"
     ],
     "language": "python",
     "metadata": {},
     "outputs": [
      {
       "output_type": "stream",
       "stream": "stdout",
       "text": [
        "Zestons l'impossible...\n"
       ]
      }
     ],
     "prompt_number": 19
    },
    {
     "cell_type": "markdown",
     "metadata": {},
     "source": [
      "Remplacer du texte\n",
      "------------------\n",
      "\n",
      "Voici deux exemples de remplacements effectu\u00e9s partout dans un texte. Notez que l'on peut changer des morceaux de texte en d'autres sans le faire lettre par lettre, et aussi que le texte initial n'a pas \u00e9t\u00e9 modifi\u00e9."
     ]
    },
    {
     "cell_type": "code",
     "collapsed": false,
     "input": [
      "texte = \"zozo et tata sont sympas\"\n",
      "\n",
      "texte_a_en_i   = texte.replace(\"a\", \"i\")\n",
      "texte_ta_en_ri = texte.replace(\"ta\", \"ri\")\n",
      "\n",
      "print(\"texte          =\", texte)\n",
      "print(\"texte_a_en_i   =\", texte_a_en_i)\n",
      "print(\"texte_ta_en_ri =\", texte_ta_en_ri)"
     ],
     "language": "python",
     "metadata": {},
     "outputs": [
      {
       "output_type": "stream",
       "stream": "stdout",
       "text": [
        "texte          = zozo et tata sont sympas\n",
        "texte_a_en_i   = zozo et titi sont sympis\n",
        "texte_ta_en_ri = zozo et riri sont sympas\n"
       ]
      }
     ],
     "prompt_number": 20
    },
    {
     "cell_type": "markdown",
     "metadata": {},
     "source": [
      "Nettoyer ces espaces que je ne saurais voir\n",
      "-------------------------------------------\n",
      "\n",
      "Les textes sont des instances de la classe `str` qui poss\u00e8de une m\u00e9thode `strip` qui permet de retirer les espaces et les tabulations qui sont \u00e9ventuellement au tout d\u00e9but et tout \u00e0 la fin d'un texte. Le code suivant montre un exemple concret d'utilisation. Notez au passage que le texte initial n'a pas \u00e9t\u00e9 modifi\u00e9."
     ]
    },
    {
     "cell_type": "code",
     "collapsed": false,
     "input": [
      "reponse = \"  Pr\u00e9nom NOM    \"\n",
      "\n",
      "reponse_nettoye = reponse.strip()\n",
      "\n",
      "# Nous modifions le param\u00e8tre `sep` de la fonction\n",
      "# `print` qui par d\u00e9faut vaut un espace.\n",
      "print(\"reponse         : >>\", reponse, \"<<\", sep = \"\")\n",
      "print(\"reponse_nettoye : >>\", reponse_nettoye, \"<<\", sep = \"\")"
     ],
     "language": "python",
     "metadata": {},
     "outputs": [
      {
       "output_type": "stream",
       "stream": "stdout",
       "text": [
        "reponse         : >>  Pr\u00e9nom NOM    <<\n",
        "reponse_nettoye : >>Pr\u00e9nom NOM<<\n"
       ]
      }
     ],
     "prompt_number": 21
    },
    {
     "cell_type": "markdown",
     "metadata": {},
     "source": [
      "Un texte (en) capitale(s)\n",
      "-------------------------\n",
      "\n",
      "Les textes sont des instances de la classe `str` qui poss\u00e8de deux m\u00e9thodes `upper` et `lower` pour mettre respectivement un texte tout en majuscule ou tout en minuscule. Le code ci-dessous explique comment les utiliser. Notez au passage que le texte initial n'a pas \u00e9t\u00e9 modifi\u00e9."
     ]
    },
    {
     "cell_type": "code",
     "collapsed": false,
     "input": [
      "texte = \"Un texte capitale ou minuscule ? Bien test\u00e9 ?\"\n",
      "\n",
      "texte_majuscules = texte.upper()\n",
      "texte_minuscules = texte.lower()\n",
      "\n",
      "print(\"texte            :\", texte)\n",
      "print(\"texte_majuscules :\", texte_majuscules)\n",
      "print(\"texte_minuscules :\", texte_minuscules)"
     ],
     "language": "python",
     "metadata": {},
     "outputs": [
      {
       "output_type": "stream",
       "stream": "stdout",
       "text": [
        "texte            : Un texte capitale ou minuscule ? Bien test\u00e9 ?\n",
        "texte_majuscules : UN TEXTE CAPITALE OU MINUSCULE ? BIEN TEST\u00c9 ?\n",
        "texte_minuscules : un texte capitale ou minuscule ? bien test\u00e9 ?\n"
       ]
      }
     ],
     "prompt_number": 22
    },
    {
     "cell_type": "markdown",
     "metadata": {},
     "source": [
      "Longueur d'un texte\n",
      "-------------------\n",
      "\n",
      "Le mot \"longueur\" se traduit en \"len\" en anglais. Une fois ceci connu, le code suivant peut se \"deviner\"."
     ]
    },
    {
     "cell_type": "code",
     "collapsed": false,
     "input": [
      "texte = \"1234567890\"\n",
      "\n",
      "print(len(texte))"
     ],
     "language": "python",
     "metadata": {},
     "outputs": [
      {
       "output_type": "stream",
       "stream": "stdout",
       "text": [
        "10\n"
       ]
      }
     ],
     "prompt_number": 23
    }
   ],
   "metadata": {}
  }
 ]
}