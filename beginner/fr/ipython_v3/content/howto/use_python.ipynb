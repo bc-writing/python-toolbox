{
 "metadata": {
  "kernelspec": {
   "display_name": "Python 3",
   "language": "python",
   "name": "python3"
  },
  "language_info": {
   "codemirror_mode": {
    "name": "ipython",
    "version": 3
   },
   "file_extension": ".py",
   "mimetype": "text/x-python",
   "name": "python",
   "nbconvert_exporter": "python",
   "pygments_lexer": "ipython3",
   "version": "3.4.3"
  },
  "name": "",
  "signature": "sha256:d6e69f044c40f83b7040919078e28e7c6bdc3f1a35b3017b1219fec8275709c0"
 },
 "nbformat": 3,
 "nbformat_minor": 0,
 "worksheets": [
  {
   "cells": [
    {
     "cell_type": "markdown",
     "metadata": {},
     "source": [
      "Comment taper et utiliser un programme \u00e9crit en Python\n",
      "======================================================\n",
      "\n",
      "IEP, un outil deux en un\n",
      "------------------------\n",
      "\n",
      "L'int\u00e9r\u00eat de IEP est qu'il est \"rassurant\" quand l'on d\u00e9bute car il permet \u00e0 la fois de taper son code, puis ensuite de le lancer directement au sein d'une unique interface graphique. "
     ]
    },
    {
     "cell_type": "markdown",
     "metadata": {},
     "source": [
      "IPython, un outil deux en un mais plus sp\u00e9cifique\n",
      "-------------------------------------------------\n",
      "\n",
      "On peut aussi utiliser IPython si l'on souhaite faire des bouts de code, ou bien si l'on veut \u00e9crire un code que l'on souhaite commenter de fa\u00e7on tr\u00e8s visuelle.\n",
      "\n",
      "**Remarque :** on peut exporter une feuille IPython sous forme d'un fichier Python. Dans ce cas, toutes les explications deviendront des commentaires dans votre code.\n",
      "\n",
      "**Attention !** Dans une feuille IPython, on peut utiliser diff\u00e9rentes cellules pour taper diff\u00e9rentes s\u00e9quences de code. Il faut savoir que IPython garde en m\u00e9moire tout ce qui a \u00e9t\u00e9 fait avant. Voici un exemple de code."
     ]
    },
    {
     "cell_type": "code",
     "collapsed": false,
     "input": [
      "x = 3"
     ],
     "language": "python",
     "metadata": {},
     "outputs": [],
     "prompt_number": 1
    },
    {
     "cell_type": "markdown",
     "metadata": {},
     "source": [
      "Tapons maintenant du texte toujours dans le cadre de notre exemple. Dans la cellule suivante, la variable `x` n'est pas d\u00e9finie mais nous pouvons l'utiliser car elle a \u00e9t\u00e9 d\u00e9finie dans une cellule pr\u00e9c\u00e9dente."
     ]
    },
    {
     "cell_type": "code",
     "collapsed": false,
     "input": [
      "# `print` sert \u00e0 afficher un r\u00e9sultat.\n",
      "print(x*100)"
     ],
     "language": "python",
     "metadata": {},
     "outputs": [
      {
       "output_type": "stream",
       "stream": "stdout",
       "text": [
        "300\n"
       ]
      }
     ],
     "prompt_number": 2
    },
    {
     "cell_type": "markdown",
     "metadata": {},
     "source": [
      "Il faut garder ceci en t\u00eate car quelque fois on peut \u00eatre \u00e9tonn\u00e9 du r\u00e9sultat renvoy\u00e9 par IPython qui utilise la valeur d'une variable d\u00e9finie pr\u00e9c\u00e9demment."
     ]
    },
    {
     "cell_type": "markdown",
     "metadata": {},
     "source": [
      "Faire comme les pros\n",
      "--------------------\n",
      "\n",
      "Avec l'habitude, certaines personnes trouvent plus simple d'utiliser des \u00e9diteurs de programmes l\u00e9gers et robustes comme Atom, Notepad++, Geany, ... etc coupl\u00e9 avec une invite de commande ou un terminal bien configur\u00e9, c'est \u00e0 dire avec un alias `python` qui lance directement Python."
     ]
    }
   ],
   "metadata": {}
  }
 ]
}