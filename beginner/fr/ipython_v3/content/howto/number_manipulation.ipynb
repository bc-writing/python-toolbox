{
 "metadata": {
  "kernelspec": {
   "display_name": "Python 3",
   "language": "python",
   "name": "python3"
  },
  "language_info": {
   "codemirror_mode": {
    "name": "ipython",
    "version": 3
   },
   "file_extension": ".py",
   "mimetype": "text/x-python",
   "name": "python",
   "nbconvert_exporter": "python",
   "pygments_lexer": "ipython3",
   "version": "3.4.3"
  },
  "name": "",
  "signature": "sha256:c9dbad18a4fe15d400c60b103fcbde9e8ed353eacd45c8e184bfa948a265847a"
 },
 "nbformat": 3,
 "nbformat_minor": 0,
 "worksheets": [
  {
   "cells": [
    {
     "cell_type": "markdown",
     "metadata": {},
     "source": [
      "Les nombres - Comment les manipuler\n",
      "===================================\n",
      "\n",
      "Addition et soustraction\n",
      "------------------------\n",
      "\n",
      "Ce qui suit para\u00eet \u00e9vident mais nous allons voir dans la section qui suit qu'il y a des pi\u00e8ges cach\u00e9s \u00e0 \u00e9viter."
     ]
    },
    {
     "cell_type": "code",
     "collapsed": false,
     "input": [
      "a = 15\n",
      "b = 7\n",
      "\n",
      "somme      = a + b\n",
      "difference = b - a\n",
      "\n",
      "print(\"somme      :\", somme)\n",
      "print(\"difference :\", difference)\n",
      "\n",
      "print(\"Type de somme      :\", type(somme))\n",
      "print(\"Type de difference :\", type(difference))"
     ],
     "language": "python",
     "metadata": {},
     "outputs": [
      {
       "output_type": "stream",
       "stream": "stdout",
       "text": [
        "somme      : 22\n",
        "difference : -8\n",
        "Type de somme      : <class 'int'>\n",
        "Type de difference : <class 'int'>\n"
       ]
      }
     ],
     "prompt_number": 1
    },
    {
     "cell_type": "markdown",
     "metadata": {},
     "source": [
      "Attention aux changements de types !\n",
      "------------------------------------\n",
      "\n",
      "Nous venons de voir comment additionner et soustraire deux nombres. Rien de magique. Ceci \u00e9tant dit, il faut faire attention aux changements de type. Voici une illustration."
     ]
    },
    {
     "cell_type": "code",
     "collapsed": false,
     "input": [
      "un_naturel       = 2\n",
      "un_reel_approche = 7.0\n",
      "un_complexe      = -4 + 0j\n",
      "\n",
      "naturel_plus_reel     = un_naturel + un_reel_approche\n",
      "naturel_plus_complexe = un_naturel + un_complexe\n",
      "reel_plus_complexe    = un_reel_approche + un_complexe\n",
      "\n",
      "print(\"Type de naturel_plus_reel     :\", type(naturel_plus_reel))\n",
      "print(\"Type de naturel_plus_complexe :\", type(naturel_plus_complexe))\n",
      "print(\"Type de reel_plus_complexe    :\", type(reel_plus_complexe))"
     ],
     "language": "python",
     "metadata": {},
     "outputs": [
      {
       "output_type": "stream",
       "stream": "stdout",
       "text": [
        "Type de naturel_plus_reel     : <class 'float'>\n",
        "Type de naturel_plus_complexe : <class 'complex'>\n",
        "Type de reel_plus_complexe    : <class 'complex'>\n"
       ]
      }
     ],
     "prompt_number": 2
    },
    {
     "cell_type": "markdown",
     "metadata": {},
     "source": [
      "Ce qui saute le plus aux yeux, c'est `2 + 7.0` qui est trait\u00e9 comme un nombre flottant et non comme un entier. Ceci vient de ce que `7.0` est un nombre flottant, et non le d\u00e9cimal `7,0` et encore moins le naturel `7`."
     ]
    },
    {
     "cell_type": "markdown",
     "metadata": {},
     "source": [
      "Multiplication et division\n",
      "--------------------------\n",
      "\n",
      "Dans ce qui suit, bien que $\\dfrac{15}{3} = 5$, Python utilise le type `float` pour la division $15 / 3$. Ceci implique au passage qu'il va falloir faire autrement si l'on souhaite obtenir le quotient de la division euclidenne de deux entiers. Ceci est expliqu\u00e9 un peu plus bas."
     ]
    },
    {
     "cell_type": "code",
     "collapsed": false,
     "input": [
      "a = 15\n",
      "b = 7\n",
      "c = 3\n",
      "\n",
      "produit    = a*b\n",
      "division_1 = a/b\n",
      "division_2 = a/c\n",
      "\n",
      "print(\"produit    :\", produit)\n",
      "print(\"division_1 :\", division_1)\n",
      "print(\"division_2 :\", division_2)\n",
      "\n",
      "print(\"Type de produit    :\", type(produit))\n",
      "print(\"Type de division_1 :\", type(division_1))\n",
      "print(\"Type de division_2 :\", type(division_2))"
     ],
     "language": "python",
     "metadata": {},
     "outputs": [
      {
       "output_type": "stream",
       "stream": "stdout",
       "text": [
        "produit    : 105\n",
        "division_1 : 2.142857142857143\n",
        "division_2 : 5.0\n",
        "Type de produit    : <class 'int'>\n",
        "Type de division_1 : <class 'float'>\n",
        "Type de division_2 : <class 'float'>\n"
       ]
      }
     ],
     "prompt_number": 3
    },
    {
     "cell_type": "markdown",
     "metadata": {},
     "source": [
      "Puissance\n",
      "---------\n",
      "\n",
      "Comme $2^{-4} = \\dfrac{1}{2^4}$, il n'est pas \u00e9tonnant de voir appara\u00eetre le type `float` dans l'exemple qui suit."
     ]
    },
    {
     "cell_type": "code",
     "collapsed": false,
     "input": [
      "a = 2\n",
      "b = 7\n",
      "c = -4\n",
      "\n",
      "puissance_1 = a**b\n",
      "puissance_2 = a**c\n",
      "\n",
      "print(\"puissance_1 :\", puissance_1)\n",
      "print(\"puissance_2 :\", puissance_2)\n",
      "\n",
      "print(\"Type de puissance_1 :\", type(puissance_1))\n",
      "print(\"Type de puissance_2 :\", type(puissance_2))"
     ],
     "language": "python",
     "metadata": {},
     "outputs": [
      {
       "output_type": "stream",
       "stream": "stdout",
       "text": [
        "puissance_1 : 128\n",
        "puissance_2 : 0.0625\n",
        "Type de puissance_1 : <class 'int'>\n",
        "Type de puissance_2 : <class 'float'>\n"
       ]
      }
     ],
     "prompt_number": 4
    },
    {
     "cell_type": "markdown",
     "metadata": {},
     "source": [
      "Division euclidienne\n",
      "--------------------\n",
      "\n",
      "La division euclidienne de $128$ par $5$, celle que l'on apprend \u00e0 l'\u00e9cole primaire, peut s'\u00e9crire $128 = 5 \\times 25 + 3$ o\u00f9 $3$ est appel\u00e9 reste, ou plus pr\u00e9cis\u00e9ment reste modulo $5$, tandis que $25$ est appel\u00e9 quotient. Voyons comment faire cela avec Python."
     ]
    },
    {
     "cell_type": "code",
     "collapsed": false,
     "input": [
      "n = 128\n",
      "\n",
      "# Calcul modulo 5 pour obtenir le reste.\n",
      "reste = n%5\n",
      "\n",
      "# Quotient d'une division euclidienne.\n",
      "quotient = n//5\n",
      "\n",
      "print(\"reste    :\", reste)\n",
      "print(\"quotient :\", quotient)\n",
      "\n",
      "print(\"Type de reste    :\", type(reste))\n",
      "print(\"Type de quotient :\", type(quotient))"
     ],
     "language": "python",
     "metadata": {},
     "outputs": [
      {
       "output_type": "stream",
       "stream": "stdout",
       "text": [
        "reste    : 3\n",
        "quotient : 25\n",
        "Type de reste    : <class 'int'>\n",
        "Type de quotient : <class 'int'>\n"
       ]
      }
     ],
     "prompt_number": 5
    }
   ],
   "metadata": {}
  }
 ]
}