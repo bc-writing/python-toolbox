{
 "metadata": {
  "kernelspec": {
   "display_name": "Python 3",
   "language": "python",
   "name": "python3"
  },
  "language_info": {
   "codemirror_mode": {
    "name": "ipython",
    "version": 3
   },
   "file_extension": ".py",
   "mimetype": "text/x-python",
   "name": "python",
   "nbconvert_exporter": "python",
   "pygments_lexer": "ipython3",
   "version": "3.4.3"
  },
  "name": "",
  "signature": "sha256:c9f11a9e640d6a4c0037d2ccc7c477b614162ff19b607a07f3ef0cfcbe3f19ed"
 },
 "nbformat": 3,
 "nbformat_minor": 0,
 "worksheets": [
  {
   "cells": [
    {
     "cell_type": "markdown",
     "metadata": {},
     "source": [
      "R\u00e9p\u00e9ter des actions\n",
      "===================\n",
      "\n",
      "R\u00e9p\u00e9ter un nombre de fois connu\n",
      "-------------------------------\n",
      "\n",
      "Dans le code qui suit, la fonction `range` renvoie une plage de valeurs. Voici un premier exemple d'utilisation."
     ]
    },
    {
     "cell_type": "code",
     "collapsed": false,
     "input": [
      "for i in range(4):\n",
      "    print(i)"
     ],
     "language": "python",
     "metadata": {
      "slideshow": {
       "slide_type": "slide"
      }
     },
     "outputs": [
      {
       "output_type": "stream",
       "stream": "stdout",
       "text": [
        "0\n",
        "1\n",
        "2\n",
        "3\n"
       ]
      }
     ],
     "prompt_number": 1
    },
    {
     "cell_type": "markdown",
     "metadata": {},
     "source": [
      "La convention utilis\u00e9e pour `range(n)` est de renvoyer les naturels de `0` \u00e0 `(n - 1)`, et non de `1` \u00e0 `n`. Mais comment obtenir ce dernier r\u00e9sultat ? Il suffit de faire comme suit o\u00f9 `range(d, f)` renvoie les naturels de `d` \u00e0 `(f - 1)`."
     ]
    },
    {
     "cell_type": "code",
     "collapsed": false,
     "input": [
      "for i in range(1, 5):\n",
      "    print(i)"
     ],
     "language": "python",
     "metadata": {},
     "outputs": [
      {
       "output_type": "stream",
       "stream": "stdout",
       "text": [
        "1\n",
        "2\n",
        "3\n",
        "4\n"
       ]
      }
     ],
     "prompt_number": 2
    },
    {
     "cell_type": "markdown",
     "metadata": {},
     "source": [
      "Un dernier usage possible consiste \u00e0 indiquer un pas d'avancement. Le code suivant affiche tous les multiples de $5$ entre $0$ compris et $35$ non compris."
     ]
    },
    {
     "cell_type": "code",
     "collapsed": false,
     "input": [
      "for i in range(0, 35, 5):\n",
      "    print(i)"
     ],
     "language": "python",
     "metadata": {},
     "outputs": [
      {
       "output_type": "stream",
       "stream": "stdout",
       "text": [
        "0\n",
        "5\n",
        "10\n",
        "15\n",
        "20\n",
        "25\n",
        "30\n"
       ]
      }
     ],
     "prompt_number": 3
    },
    {
     "cell_type": "markdown",
     "metadata": {},
     "source": [
      "R\u00e9p\u00e9ter un nombre de fois inconnu\n",
      "---------------------------------\n",
      "\n",
      "Lorsque l'on ne connait pas le nombre de r\u00e9p\u00e9titions \u00e0 effectuer, Python propose la boucle `while`. Voici un exemple typique."
     ]
    },
    {
     "cell_type": "code",
     "collapsed": false,
     "input": [
      "reponse = \"\"\n",
      "\n",
      "while(reponse != \"oui\"):\n",
      "    reponse = input('Taper \"oui\" sans les guillemets pour partir. ')"
     ],
     "language": "python",
     "metadata": {},
     "outputs": [
      {
       "output_type": "stream",
       "stream": "stdout",
       "text": [
        "Taper \"oui\" sans les guillemets pour partir. o\n",
        "Taper \"oui\" sans les guillemets pour partir. NON\n",
        "Taper \"oui\" sans les guillemets pour partir. Infernal\n",
        "Taper \"oui\" sans les guillemets pour partir. Je vais devoir c\u00e9der !\n",
        "Taper \"oui\" sans les guillemets pour partir. oui\n"
       ]
      }
     ],
     "prompt_number": 4
    },
    {
     "cell_type": "markdown",
     "metadata": {},
     "source": [
      "Indentation, attention danger !\n",
      "-------------------------------\n",
      "\n",
      "L'indentation est importante comme nous allons le voir. Consid\u00e9rons le code suivant o\u00f9 l'utilisation maladroite d'une boucle `while` au lieu d'une boucle `for` sert juste \u00e0 illustrer notre propos."
     ]
    },
    {
     "cell_type": "code",
     "collapsed": false,
     "input": [
      "colonne = 0\n",
      "\n",
      "while(colonne < 3):\n",
      "    colonne = colonne + 1\n",
      "\n",
      "    for ligne in range(1, 5):\n",
      "        print(ligne, \";\", colonne)"
     ],
     "language": "python",
     "metadata": {},
     "outputs": [
      {
       "output_type": "stream",
       "stream": "stdout",
       "text": [
        "1 ; 1\n",
        "2 ; 1\n",
        "3 ; 1\n",
        "4 ; 1\n",
        "1 ; 2\n",
        "2 ; 2\n",
        "3 ; 2\n",
        "4 ; 2\n",
        "1 ; 3\n",
        "2 ; 3\n",
        "3 ; 3\n",
        "4 ; 3\n"
       ]
      }
     ],
     "prompt_number": 5
    },
    {
     "cell_type": "markdown",
     "metadata": {},
     "source": [
      "Bien que le code suivant change juste quelques indentations du code pr\u00e9c\u00e9dent, les r\u00e9sultats affich\u00e9s sont tr\u00e8s diff\u00e9rents. "
     ]
    },
    {
     "cell_type": "code",
     "collapsed": false,
     "input": [
      "colonne = 0\n",
      "\n",
      "while(colonne < 3):\n",
      "    colonne = colonne + 1\n",
      "\n",
      "for ligne in range(1, 5):\n",
      "    print(ligne, \";\", colonne)"
     ],
     "language": "python",
     "metadata": {},
     "outputs": [
      {
       "output_type": "stream",
       "stream": "stdout",
       "text": [
        "1 ; 3\n",
        "2 ; 3\n",
        "3 ; 3\n",
        "4 ; 3\n"
       ]
      }
     ],
     "prompt_number": 6
    }
   ],
   "metadata": {}
  }
 ]
}