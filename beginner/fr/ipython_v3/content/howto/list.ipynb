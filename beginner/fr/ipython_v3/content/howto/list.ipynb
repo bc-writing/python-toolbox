{
 "metadata": {
  "kernelspec": {
   "display_name": "Python 3",
   "language": "python",
   "name": "python3"
  },
  "language_info": {
   "codemirror_mode": {
    "name": "ipython",
    "version": 3
   },
   "file_extension": ".py",
   "mimetype": "text/x-python",
   "name": "python",
   "nbconvert_exporter": "python",
   "pygments_lexer": "ipython3",
   "version": "3.4.3"
  },
  "name": "",
  "signature": "sha256:14ae62a0fe7524fc15f5b01070da0f2f49a18c5d3990234094699d116810147a"
 },
 "nbformat": 3,
 "nbformat_minor": 0,
 "worksheets": [
  {
   "cells": [
    {
     "cell_type": "markdown",
     "metadata": {},
     "source": [
      "Listes\n",
      "======\n",
      "\n",
      "Cr\u00e9er une liste directement\n",
      "---------------------------\n",
      "\n",
      "Les \u00e9l\u00e9ments d'une liste sont \u00e0 mettre entre des crochets s\u00e9par\u00e9s par des virgules. Une liste peut contenir diff\u00e9rents types de variables comme le montre l'exemple suivant."
     ]
    },
    {
     "cell_type": "code",
     "collapsed": false,
     "input": [
      "liste_heterogene = [0, \"un\", 8/4] # 8/4 = 2.0 est un flottant !\n",
      "\n",
      "print(\"liste_heterogene =\", liste_heterogene)\n",
      "print(\"Type de liste_heterogene :\", type(liste_heterogene))"
     ],
     "language": "python",
     "metadata": {},
     "outputs": [
      {
       "output_type": "stream",
       "stream": "stdout",
       "text": [
        "liste_heterogene = [0, 'un', 2.0]\n",
        "Type de liste_heterogene : <class 'list'>\n"
       ]
      }
     ],
     "prompt_number": 1
    },
    {
     "cell_type": "markdown",
     "metadata": {},
     "source": [
      "Notons que l'on peut faire une liste de listes pour par exemple repr\u00e9senter une liste de coordonn\u00e9es (on peut bien entendu aller plus loin en faisant une liste de listes de listes de listes...etc)."
     ]
    },
    {
     "cell_type": "code",
     "collapsed": false,
     "input": [
      "coord_1d = [1]\n",
      "coord_2d = [0, 10]\n",
      "coord_3d = [33, -4, 17]\n",
      "\n",
      "liste_de_coord = [coord_1d, coord_2d, coord_3d]\n",
      "\n",
      "print(liste_de_coord)"
     ],
     "language": "python",
     "metadata": {},
     "outputs": [
      {
       "output_type": "stream",
       "stream": "stdout",
       "text": [
        "[[1], [0, 10], [33, -4, 17]]\n"
       ]
      }
     ],
     "prompt_number": 2
    },
    {
     "cell_type": "markdown",
     "metadata": {},
     "source": [
      "Ajouter un nouvel \u00e9l\u00e9ment \u00e0 une liste\n",
      "-------------------------------------\n",
      "\n",
      "Une liste est une instance de la classe `list` qui poss\u00e8de une m\u00e9thode `append` permettant d'ajouter un nouvel \u00e9l\u00e9ment. Voici comment utiliser cette derni\u00e8re."
     ]
    },
    {
     "cell_type": "code",
     "collapsed": false,
     "input": [
      "notre_liste = []\n",
      "\n",
      "print(\"Une liste vide au d\u00e9part :\", notre_liste)\n",
      "\n",
      "notre_liste.append(\"nouvel \u00e9l\u00e9ment\")\n",
      "notre_liste.append(\"autre ajout\")\n",
      "\n",
      "print(\"Liste remplie maintenant :\", notre_liste)"
     ],
     "language": "python",
     "metadata": {},
     "outputs": [
      {
       "output_type": "stream",
       "stream": "stdout",
       "text": [
        "Une liste vide au d\u00e9part : []\n",
        "Liste remplie maintenant : ['nouvel \u00e9l\u00e9ment', 'autre ajout']\n"
       ]
      }
     ],
     "prompt_number": 3
    },
    {
     "cell_type": "markdown",
     "metadata": {},
     "source": [
      "Cr\u00e9er une liste \u00e0 l'aide de boucles\n",
      "-----------------------------------\n",
      "\n",
      "La m\u00e9thode `append` pr\u00e9sent\u00e9e dans la section pr\u00e9c\u00e9dente permet de fabriquer facilement certaines listes ayant une structure r\u00e9guli\u00e8re."
     ]
    },
    {
     "cell_type": "code",
     "collapsed": false,
     "input": [
      "naturels = []\n",
      "\n",
      "for i in range(14):\n",
      "    naturels.append(i)\n",
      "    \n",
      "print(naturels)"
     ],
     "language": "python",
     "metadata": {},
     "outputs": [
      {
       "output_type": "stream",
       "stream": "stdout",
       "text": [
        "[0, 1, 2, 3, 4, 5, 6, 7, 8, 9, 10, 11, 12, 13]\n"
       ]
      }
     ],
     "prompt_number": 4
    },
    {
     "cell_type": "markdown",
     "metadata": {},
     "source": [
      "Il existe un raccourci tr\u00e8s pratique bas\u00e9 sur le concept de liste en compr\u00e9hension. Dans ce qui suit, les crochets nous indiquent que nous fabriquons une liste, puis ensuite cette liste a pour \u00e9l\u00e9ment les `i` pour `i` parcourant la plage de valeurs renvoy\u00e9es par `range(14)`."
     ]
    },
    {
     "cell_type": "code",
     "collapsed": false,
     "input": [
      "naturels = [i for i in range(14)]\n",
      "    \n",
      "print(naturels)"
     ],
     "language": "python",
     "metadata": {},
     "outputs": [
      {
       "output_type": "stream",
       "stream": "stdout",
       "text": [
        "[0, 1, 2, 3, 4, 5, 6, 7, 8, 9, 10, 11, 12, 13]\n"
       ]
      }
     ],
     "prompt_number": 5
    },
    {
     "cell_type": "markdown",
     "metadata": {},
     "source": [
      "Accoler des listes\n",
      "------------------\n",
      "\n",
      "L'op\u00e9rateur `+` permet d'accoler des listes les unes ap\u00e8s les autres."
     ]
    },
    {
     "cell_type": "code",
     "collapsed": false,
     "input": [
      "liste_1 = [1, 2, 3]\n",
      "liste_2 = [100, 1000]\n",
      "liste_3 = [9, 99, 999, 9999]\n",
      "\n",
      "listes_accolees = liste_1 + liste_2 + liste_3\n",
      "\n",
      "print(listes_accolees)"
     ],
     "language": "python",
     "metadata": {},
     "outputs": [
      {
       "output_type": "stream",
       "stream": "stdout",
       "text": [
        "[1, 2, 3, 100, 1000, 9, 99, 999, 9999]\n"
       ]
      }
     ],
     "prompt_number": 6
    },
    {
     "cell_type": "markdown",
     "metadata": {},
     "source": [
      "Acc\u00e9der \u00e0 un \u00e9l\u00e9ment d'une liste\n",
      "--------------------------------\n",
      "\n",
      "L'acc\u00e8s \u00e0 un \u00e9l\u00e9ment d'une liste se fait comme suit o\u00f9 le premier \u00e9l\u00e9ment d'une liste a toujours pour position $0$. On peut aussi partir de la fin en utilisant un entier relatif n\u00e9gatif, le dernier \u00e9l\u00e9ment correspondant \u00e0 la position $(-1)$."
     ]
    },
    {
     "cell_type": "code",
     "collapsed": false,
     "input": [
      "naturels_pairs = [0, 2, 4, 6, 8, 10, 12]\n",
      "\n",
      "print(\"Premier naturel pair de notre liste   :\", naturels_pairs[0])\n",
      "print(\"Denier naturel pair de notre liste    :\", naturels_pairs[-1])\n",
      "print(\"Troisi\u00e8me naturel pair de notre liste :\", naturels_pairs[2])"
     ],
     "language": "python",
     "metadata": {},
     "outputs": [
      {
       "output_type": "stream",
       "stream": "stdout",
       "text": [
        "Premier naturel pair de notre liste   : 0\n",
        "Denier naturel pair de notre liste    : 12\n",
        "Troisi\u00e8me naturel pair de notre liste : 4\n"
       ]
      }
     ],
     "prompt_number": 7
    },
    {
     "cell_type": "markdown",
     "metadata": {},
     "source": [
      "Extraire une sous-liste\n",
      "-----------------------\n",
      "\n",
      "Le code ci-apr\u00e8s montre que `[d:f]` va extraire les \u00e9l\u00e9ments des positions `d` \u00e0 `(f - 1)`, et que `[:f]` et `[d:]` sont des raccourcis pour `[0:f]` et `[d:-1]` respectivement. Le fonctionnement est similaire \u00e0 ce qu'il se fait avec les cha\u00eenes de caract\u00e8res.  "
     ]
    },
    {
     "cell_type": "code",
     "collapsed": false,
     "input": [
      "naturels = [0, 1, 2, 3, 4, 5, 6, 7, 8, 9, 10, 11, 12, 13, 14]\n",
      "\n",
      "naturels_avant_4             = naturels[:4]\n",
      "naturels_entre_4_et_7_inclus = naturels[4:8]\n",
      "naturels_apres_7             = naturels[8:]\n",
      "\n",
      "print(naturels_avant_4)\n",
      "print(naturels_entre_4_et_7_inclus)\n",
      "print(naturels_apres_7)"
     ],
     "language": "python",
     "metadata": {},
     "outputs": [
      {
       "output_type": "stream",
       "stream": "stdout",
       "text": [
        "[0, 1, 2, 3]\n",
        "[4, 5, 6, 7]\n",
        "[8, 9, 10, 11, 12, 13, 14]\n"
       ]
      }
     ],
     "prompt_number": 8
    },
    {
     "cell_type": "markdown",
     "metadata": {},
     "source": [
      "Modifier une liste \u00e9l\u00e9ment par \u00e9l\u00e9ment\n",
      "--------------------------------------\n",
      "\n",
      "Il est possible de modifier un \u00e9l\u00e9ment d'une liste comme suit (par contre ce type de manipulations ne marche pas avec les cha\u00eenes de caract\u00e8res)."
     ]
    },
    {
     "cell_type": "code",
     "collapsed": false,
     "input": [
      "liste_heterogene = [0, \"un\", 2.0]\n",
      "\n",
      "print(\"liste_heterogene avant :\", liste_heterogene)\n",
      "\n",
      "liste_heterogene[0] = \"z\u00e9ro\"\n",
      "liste_heterogene[2] = \"deux\"\n",
      "\n",
      "print(\"liste_heterogene apr\u00e8s :\", liste_heterogene)"
     ],
     "language": "python",
     "metadata": {},
     "outputs": [
      {
       "output_type": "stream",
       "stream": "stdout",
       "text": [
        "liste_heterogene avant : [0, 'un', 2.0]\n",
        "liste_heterogene apr\u00e8s : ['z\u00e9ro', 'un', 'deux']\n"
       ]
      }
     ],
     "prompt_number": 9
    },
    {
     "cell_type": "markdown",
     "metadata": {},
     "source": [
      "Copier une liste, attention danger !\n",
      "------------------------------------\n",
      "\n",
      "Commen\u00e7ons par quelque chose de d\u00e9routant et parfois dur \u00e0 rep\u00e9rer dans de grands codes."
     ]
    },
    {
     "cell_type": "code",
     "collapsed": false,
     "input": [
      "liste_ancienne = [1, 2, 3]\n",
      "liste_nouvelle = liste_ancienne\n",
      "\n",
      "liste_nouvelle.append(4)\n",
      "liste_nouvelle.append(5)\n",
      "\n",
      "print(\"liste_ancienne =\", liste_ancienne)\n",
      "print(\"liste_nouvelle =\", liste_nouvelle)"
     ],
     "language": "python",
     "metadata": {},
     "outputs": [
      {
       "output_type": "stream",
       "stream": "stdout",
       "text": [
        "liste_ancienne = [1, 2, 3, 4, 5]\n",
        "liste_nouvelle = [1, 2, 3, 4, 5]\n"
       ]
      }
     ],
     "prompt_number": 10
    },
    {
     "cell_type": "markdown",
     "metadata": {},
     "source": [
      "Regardez bien ce qu'il vient de se passer. Les **deux** listes ont \u00e9t\u00e9 modifi\u00e9es. Si cela ne vous choque pas, comparez avec le code suivant."
     ]
    },
    {
     "cell_type": "code",
     "collapsed": false,
     "input": [
      "texte_ancien  = \"Texte au d\u00e9part.\"\n",
      "texte_nouveau = texte_ancien\n",
      "\n",
      "texte_nouveau = \"Des changements ont eu lieu.\"\n",
      "\n",
      "print(\"texte_ancien  =\", texte_ancien)\n",
      "print(\"texte_nouveau =\", texte_nouveau)"
     ],
     "language": "python",
     "metadata": {},
     "outputs": [
      {
       "output_type": "stream",
       "stream": "stdout",
       "text": [
        "texte_ancien  = Texte au d\u00e9part.\n",
        "texte_nouveau = Des changements ont eu lieu.\n"
       ]
      }
     ],
     "prompt_number": 11
    },
    {
     "cell_type": "markdown",
     "metadata": {},
     "source": [
      "Que s'est il pass\u00e9 avec nos listes, ou peut-\u00eatre devrait-on dire avec notre liste ? Une liste est un objet informatique qui consomme beaucoup de m\u00e9moires, par cons\u00e9quent les concepteurs de Python ont choisi de limiter la copie en m\u00e9moire des listes. Dans notre cas, ceci signifie que les variables `texte_ancien` et `texte_nouveau` pointent vers le m\u00eame emplacement m\u00e9moire d'une unique liste (ce ph\u00e9nom\u00e8ne se rencontre aussi avec les variables de type ensemble et dictionnaire qui sont pr\u00e9sent\u00e9es dans les sections suivantes). \n",
      "\n",
      "Nous devons donc nous d\u00e9brouiller pour imposer la cr\u00e9ation d'une nouvelle copie en m\u00e9moire. Voici une m\u00e9thode propre qui fait appel \u00e0 un module d\u00e9di\u00e9 \u00e0 la copie d'objets \"m\u00e9mophages\". Nous proposons d'utiliser `deepcopy` qui va g\u00e9rer les cas de listes contenants des listes contenant des listes... etc."
     ]
    },
    {
     "cell_type": "code",
     "collapsed": false,
     "input": [
      "from copy import deepcopy\n",
      "\n",
      "liste_ancienne = [1, 2, 3]\n",
      "liste_nouvelle = deepcopy(liste_ancienne)\n",
      "\n",
      "liste_nouvelle.append(4)\n",
      "liste_nouvelle.append(5)\n",
      "\n",
      "print(\"liste_ancienne =\", liste_ancienne)\n",
      "print(\"liste_nouvelle =\", liste_nouvelle)"
     ],
     "language": "python",
     "metadata": {},
     "outputs": [
      {
       "output_type": "stream",
       "stream": "stdout",
       "text": [
        "liste_ancienne = [1, 2, 3]\n",
        "liste_nouvelle = [1, 2, 3, 4, 5]\n"
       ]
      }
     ],
     "prompt_number": 12
    },
    {
     "cell_type": "markdown",
     "metadata": {},
     "source": [
      "Taille d'une liste\n",
      "------------------\n",
      "\n",
      "Le mot \"len\" signifiant \"longueur\" en anglais, le code suivant peut se \"deviner\"."
     ]
    },
    {
     "cell_type": "code",
     "collapsed": false,
     "input": [
      "une_liste = [1, 2, 3, 4, 5, 6]\n",
      "\n",
      "print(len(une_liste))"
     ],
     "language": "python",
     "metadata": {},
     "outputs": [
      {
       "output_type": "stream",
       "stream": "stdout",
       "text": [
        "6\n"
       ]
      }
     ],
     "prompt_number": 13
    }
   ],
   "metadata": {}
  }
 ]
}