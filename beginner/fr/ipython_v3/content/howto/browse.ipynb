{
 "metadata": {
  "kernelspec": {
   "display_name": "Python 3",
   "language": "python",
   "name": "python3"
  },
  "language_info": {
   "codemirror_mode": {
    "name": "ipython",
    "version": 3
   },
   "file_extension": ".py",
   "mimetype": "text/x-python",
   "name": "python",
   "nbconvert_exporter": "python",
   "pygments_lexer": "ipython3",
   "version": "3.4.3"
  },
  "name": "",
  "signature": "sha256:b9d38762235544376740470105237d1002f47dcd791d5dace793fc63875a3a91"
 },
 "nbformat": 3,
 "nbformat_minor": 0,
 "worksheets": [
  {
   "cells": [
    {
     "cell_type": "markdown",
     "metadata": {},
     "source": [
      "Parcourir les textes, les listes, les ensembles et les dictionnaires\n",
      "====================================================================\n",
      "\n",
      "Parcourir des textes, des listes et des ensembles\n",
      "-------------------------------------------------\n",
      "\n",
      "Ces trois types de variable se parcourent en utilisant le m\u00eame type de syntaxe. Voici un premier exemple d'utilisation via `for ... in ...` . On fera attention au cas d'un ensemble Python : pour ce type de variables, il n'y a pas un ordre pr\u00e9visible de renvoi des \u00e9l\u00e9ments d'un ensemble."
     ]
    },
    {
     "cell_type": "code",
     "collapsed": false,
     "input": [
      "# TEXTE\n",
      "print(\"Cas d'un texte\")\n",
      "print(\"--------------\")\n",
      "\n",
      "un_texte = \"Un bon d\u00e9part\"\n",
      "\n",
      "for caractere in un_texte:\n",
      "    print(caractere)\n",
      "    \n",
      "\n",
      "# LISTE\n",
      "print(\"\")\n",
      "print(\"Cas d'une liste\")\n",
      "print(\"---------------\")\n",
      "\n",
      "une_liste = [1, 2, 3, 4, 5]\n",
      "\n",
      "for elt in une_liste:\n",
      "    print(elt)\n",
      "\n",
      "    \n",
      "# ENSEMBLE\n",
      "print(\"\")\n",
      "print(\"Cas d'un ensemble\")\n",
      "print(\"-----------------\")\n",
      "\n",
      "un_ensemble = set([3, 2, 1, 3, 2, 1, 3, 2, 1])\n",
      "\n",
      "for elt in un_ensemble:\n",
      "    print(elt)"
     ],
     "language": "python",
     "metadata": {},
     "outputs": [
      {
       "output_type": "stream",
       "stream": "stdout",
       "text": [
        "Cas d'un texte\n",
        "--------------\n",
        "U\n",
        "n\n",
        " \n",
        "b\n",
        "o\n",
        "n\n",
        " \n",
        "d\n",
        "\u00e9\n",
        "p\n",
        "a\n",
        "r\n",
        "t\n",
        "\n",
        "Cas d'une liste\n",
        "---------------\n",
        "1\n",
        "2\n",
        "3\n",
        "4\n",
        "5\n",
        "\n",
        "Cas d'un ensemble\n",
        "-----------------\n",
        "1\n",
        "2\n",
        "3\n"
       ]
      }
     ],
     "prompt_number": 1
    },
    {
     "cell_type": "markdown",
     "metadata": {},
     "source": [
      "Ceci donne un moyen simple pour transformer un texte en une liste de lettres respectant l'ordre d'\u00e9criture du texte. Pas convaincu(e) ? Voici comment faire."
     ]
    },
    {
     "cell_type": "code",
     "collapsed": false,
     "input": [
      "texte = \"Transformez moi !\"\n",
      "\n",
      "liste_caracteres = [caractere for caractere in texte]\n",
      "\n",
      "print(liste_caracteres)"
     ],
     "language": "python",
     "metadata": {},
     "outputs": [
      {
       "output_type": "stream",
       "stream": "stdout",
       "text": [
        "['T', 'r', 'a', 'n', 's', 'f', 'o', 'r', 'm', 'e', 'z', ' ', 'm', 'o', 'i', ' ', '!']\n"
       ]
      }
     ],
     "prompt_number": 2
    },
    {
     "cell_type": "markdown",
     "metadata": {},
     "source": [
      "**Utile :** le code suivant fonctionne car les textes, comme les listes, peuvent \u00eatre parcourus via `for ... in ...` ."
     ]
    },
    {
     "cell_type": "code",
     "collapsed": false,
     "input": [
      "texte = \"caract\u00e8res utilis\u00e9es\"\n",
      "\n",
      "caracteres_utilises = set(texte)\n",
      "\n",
      "print(caracteres_utilises)"
     ],
     "language": "python",
     "metadata": {},
     "outputs": [
      {
       "output_type": "stream",
       "stream": "stdout",
       "text": [
        "{' ', 'r', 'e', 's', '\u00e9', '\u00e8', 't', 'c', 'u', 'a', 'i', 'l'}\n"
       ]
      }
     ],
     "prompt_number": 3
    },
    {
     "cell_type": "markdown",
     "metadata": {},
     "source": [
      "Parcourir un texte, une liste ou un ensemble en \"r\u00e9cup\u00e9rant la position\"\n",
      "------------------------------------------------------------------------\n",
      "\n",
      "Il peut \u00eatre utile de r\u00e9cup\u00e9rer \u00e0 la fois une lettre ou un \u00e9l\u00e9ment avec sa position. Dans ce cas, on utilisera `for ... in enumerate(...)` comme le montre le code qui suit."
     ]
    },
    {
     "cell_type": "code",
     "collapsed": false,
     "input": [
      "# TEXTE\n",
      "print(\"Cas d'un texte\")\n",
      "print(\"--------------\")\n",
      "\n",
      "un_texte = \"Un bon d\u00e9part\"\n",
      "\n",
      "for position, lettre in enumerate(un_texte):\n",
      "    print(position, \":\", lettre)\n",
      "    \n",
      "\n",
      "# LISTE\n",
      "print(\"\")\n",
      "print(\"Cas d'une liste\")\n",
      "print(\"---------------\")\n",
      "\n",
      "une_liste = [1, 2, 3, 4, 5]\n",
      "\n",
      "for position, elt in enumerate(une_liste):\n",
      "    print(position, \":\", elt)\n",
      "\n",
      "    \n",
      "# ENSEMBLE\n",
      "print(\"\")\n",
      "print(\"Cas d'un ensemble\")\n",
      "print(\"-----------------\")\n",
      "\n",
      "un_ensemble = set([3, 2, 1, 3, 2, 1, 3, 2, 1])\n",
      "\n",
      "for position, elt in enumerate(un_ensemble):\n",
      "    print(position, \":\", elt)"
     ],
     "language": "python",
     "metadata": {},
     "outputs": [
      {
       "output_type": "stream",
       "stream": "stdout",
       "text": [
        "Cas d'un texte\n",
        "--------------\n",
        "0 : U\n",
        "1 : n\n",
        "2 :  \n",
        "3 : b\n",
        "4 : o\n",
        "5 : n\n",
        "6 :  \n",
        "7 : d\n",
        "8 : \u00e9\n",
        "9 : p\n",
        "10 : a\n",
        "11 : r\n",
        "12 : t\n",
        "\n",
        "Cas d'une liste\n",
        "---------------\n",
        "0 : 1\n",
        "1 : 2\n",
        "2 : 3\n",
        "3 : 4\n",
        "4 : 5\n",
        "\n",
        "Cas d'un ensemble\n",
        "-----------------\n",
        "0 : 1\n",
        "1 : 2\n",
        "2 : 3\n"
       ]
      }
     ],
     "prompt_number": 4
    },
    {
     "cell_type": "markdown",
     "metadata": {},
     "source": [
      "Parcourir un dictionnaire\n",
      "-------------------------\n",
      "\n",
      "Le parcours des dictionnaires peut se faire de deux fa\u00e7ons possibles pr\u00e9sent\u00e9es dans l'exemple ci-apr\u00e8s. Tout comme pour les ensembles, il n'y a pas d'ordre pr\u00e9visible de renvoi des cl\u00e9s."
     ]
    },
    {
     "cell_type": "code",
     "collapsed": false,
     "input": [
      "un_dico = {0: \"z\u00e9ro\", 1: \"un\", 2: \"deux\"}\n",
      "\n",
      "print(\"M\u00e9thode 1\")\n",
      "print(\"---------\")\n",
      "\n",
      "for cle in un_dico:\n",
      "    print(cle, \"s'\u00e9crit\", un_dico[cle],\".\")\n",
      "    \n",
      "\n",
      "print(\"\")\n",
      "print(\"M\u00e9thode 2\")\n",
      "print(\"---------\")\n",
      "\n",
      "for cle, valeur in un_dico.items():\n",
      "    print(cle, \"s'\u00e9crit\", valeur,\".\")"
     ],
     "language": "python",
     "metadata": {},
     "outputs": [
      {
       "output_type": "stream",
       "stream": "stdout",
       "text": [
        "M\u00e9thode 1\n",
        "---------\n",
        "0 s'\u00e9crit z\u00e9ro .\n",
        "1 s'\u00e9crit un .\n",
        "2 s'\u00e9crit deux .\n",
        "\n",
        "M\u00e9thode 2\n",
        "---------\n",
        "0 s'\u00e9crit z\u00e9ro .\n",
        "1 s'\u00e9crit un .\n",
        "2 s'\u00e9crit deux .\n"
       ]
      }
     ],
     "prompt_number": 5
    }
   ],
   "metadata": {}
  }
 ]
}