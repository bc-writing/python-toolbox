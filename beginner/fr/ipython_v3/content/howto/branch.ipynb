{
 "metadata": {
  "kernelspec": {
   "display_name": "Python 3",
   "language": "python",
   "name": "python3"
  },
  "language_info": {
   "codemirror_mode": {
    "name": "ipython",
    "version": 3
   },
   "file_extension": ".py",
   "mimetype": "text/x-python",
   "name": "python",
   "nbconvert_exporter": "python",
   "pygments_lexer": "ipython3",
   "version": "3.4.3"
  },
  "name": "",
  "signature": "sha256:74523260f15d10aec2c48478078f1ff40e05c1b07ddcd87582537c574347cf5a"
 },
 "nbformat": 3,
 "nbformat_minor": 0,
 "worksheets": [
  {
   "cells": [
    {
     "cell_type": "markdown",
     "metadata": {},
     "source": [
      "Agir si quelque chose est v\u00e9rifi\u00e9e\n",
      "==================================\n",
      "\n",
      "Si ... sinon si ... sinon ...\n",
      "-----------------------------\n",
      "\n",
      "Programmer c'est prendre des d\u00e9cisions en fonction d'un contexte donn\u00e9. Dans l'exemple basique suivant, notez l'utilisation de l'indentation, ou du d\u00e9calage, de quatre espaces qui sert \u00e0 indiquer le bloc d'instructions \u00e0 faire en cas de test valid\u00e9."
     ]
    },
    {
     "cell_type": "code",
     "collapsed": false,
     "input": [
      "# Nous souhaitons une r\u00e9ponse de type naturel.\n",
      "choix = int(input(\"Votre choix entre 1, 2, et 3 ? \"))\n",
      "\n",
      "if choix == 1:\n",
      "    print(\"Premier choix\")\n",
      "\n",
      "elif choix == 2:\n",
      "    print(\"Deuxi\u00e8me choix\")\n",
      "\n",
      "elif choix == 3:\n",
      "    print(\"Troisi\u00e8me choix\")\n",
      "\n",
      "else:\n",
      "    print(\"Choix inconnu\")"
     ],
     "language": "python",
     "metadata": {
      "slideshow": {
       "slide_type": "slide"
      }
     },
     "outputs": [
      {
       "output_type": "stream",
       "stream": "stdout",
       "text": [
        "Votre choix entre 1, 2, et 3 ? 7\n",
        "Choix inconnu\n"
       ]
      }
     ],
     "prompt_number": 5
    },
    {
     "cell_type": "markdown",
     "metadata": {},
     "source": [
      "Bien entendu, on peut utiliser juste les formes \"r\u00e9duites\" `if ... else ...` , et aussi juste `if ...` si le contexte le demande (voir la section suivante).\n",
      "\n",
      "\n",
      "Indentation, attention danger !\n",
      "-------------------------------\n",
      "\n",
      "L'indentation est importante comme le montre le code suivant."
     ]
    },
    {
     "cell_type": "code",
     "collapsed": false,
     "input": [
      "x = 5\n",
      "\n",
      "# Tout au m\u00eame niveau.\n",
      "print(\"TOUT AU M\u00caME NIVEAU\")\n",
      "print(\"===================\")\n",
      "\n",
      "\n",
      "if x == 2:\n",
      "    print(\"x == 2\")\n",
      "\n",
      "if x > 2:\n",
      "    print(\"x > 2\")\n",
      "\n",
      "if x < 0:\n",
      "    print(\"x < 0\")\n",
      "\n",
      "if x <= 5:\n",
      "    print(\"x <= 5\")\n",
      "\n",
      "\n",
      "# Des indentations diff\u00e9rentes.\n",
      "print(\"\")\n",
      "print(\"DES INDENTATIONS DIFF\u00c9RENTES\")\n",
      "print(\"============================\")\n",
      "\n",
      "if x == 2:\n",
      "    print(\"x == 2\")\n",
      "\n",
      "    if x > 2:\n",
      "        print(\"x > 2\")\n",
      "\n",
      "if x < 0:\n",
      "    print(\"x < 0\")\n",
      "\n",
      "    if x <= 5:\n",
      "        print(\"x <= 5\")"
     ],
     "language": "python",
     "metadata": {},
     "outputs": [
      {
       "output_type": "stream",
       "stream": "stdout",
       "text": [
        "TOUT AU M\u00caME NIVEAU\n",
        "===================\n",
        "x > 2\n",
        "x <= 5\n",
        "\n",
        "DES INDENTATIONS DIFF\u00c9RENTES\n",
        "============================\n"
       ]
      }
     ],
     "prompt_number": 6
    }
   ],
   "metadata": {}
  }
 ]
}