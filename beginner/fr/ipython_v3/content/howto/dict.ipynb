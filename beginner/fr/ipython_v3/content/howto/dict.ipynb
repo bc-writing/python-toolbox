{
 "metadata": {
  "kernelspec": {
   "display_name": "Python 3",
   "language": "python",
   "name": "python3"
  },
  "language_info": {
   "codemirror_mode": {
    "name": "ipython",
    "version": 3
   },
   "file_extension": ".py",
   "mimetype": "text/x-python",
   "name": "python",
   "nbconvert_exporter": "python",
   "pygments_lexer": "ipython3",
   "version": "3.4.3"
  },
  "name": "",
  "signature": "sha256:d0870faa60fcb3465831ea3ca23b91bd0917701ab38d5cb034fd8858d8b282da"
 },
 "nbformat": 3,
 "nbformat_minor": 0,
 "worksheets": [
  {
   "cells": [
    {
     "cell_type": "markdown",
     "metadata": {},
     "source": [
      "Dictionnaires - Associer des cl\u00e9s \u00e0 des valeurs\n",
      "===============================================\n",
      "\n",
      "Un dictionnaire Python, c'est quoi !\n",
      "------------------------------------\n",
      "\n",
      "Un dictionnaire Python sert \u00e0 associer une cl\u00e9 \u00e0 une valeur. Voici un exemple d'utilisation."
     ]
    },
    {
     "cell_type": "code",
     "collapsed": false,
     "input": [
      "numero_tel = {\"James Bond\": '007', \"M. Arignan\": '13.14.09.1515'}\n",
      "\n",
      "print(\"numero_tel =\", numero_tel)\n",
      "print(\"Type de numero_tel :\", type(numero_tel))\n",
      "\n",
      "print(\"Le num\u00e9ro de James Bond :\", numero_tel[\"James Bond\"])"
     ],
     "language": "python",
     "metadata": {},
     "outputs": [
      {
       "output_type": "stream",
       "stream": "stdout",
       "text": [
        "numero_tel = {'James Bond': '007', 'M. Arignan': '13.14.09.1515'}\n",
        "Type de numero_tel : <class 'dict'>\n",
        "Le num\u00e9ro de James Bond : 007\n"
       ]
      }
     ],
     "prompt_number": 3
    },
    {
     "cell_type": "markdown",
     "metadata": {},
     "source": [
      "**Attention !** Les cl\u00e9s doivent avoir des types \"simples\" comme le montre l'exemple suivant. Les cha\u00eenes de caract\u00e8res, les nombres et les bool\u00e9ens ont des types \"simples\"."
     ]
    },
    {
     "cell_type": "code",
     "collapsed": false,
     "input": [
      "probleme = {\"ok\": 'pas ok ensuite', [0, 1]: 4}"
     ],
     "language": "python",
     "metadata": {},
     "outputs": [
      {
       "ename": "TypeError",
       "evalue": "unhashable type: 'list'",
       "output_type": "pyerr",
       "traceback": [
        "\u001b[0;31m---------------------------------------------------------------------------\u001b[0m",
        "\u001b[0;31mTypeError\u001b[0m                                 Traceback (most recent call last)",
        "\u001b[0;32m<ipython-input-4-4012efa7f409>\u001b[0m in \u001b[0;36m<module>\u001b[0;34m()\u001b[0m\n\u001b[0;32m----> 1\u001b[0;31m \u001b[0mprobleme\u001b[0m \u001b[0;34m=\u001b[0m \u001b[0;34m{\u001b[0m\u001b[0;34m\"ok\"\u001b[0m\u001b[0;34m:\u001b[0m \u001b[0;34m'pas ok ensuite'\u001b[0m\u001b[0;34m,\u001b[0m \u001b[0;34m[\u001b[0m\u001b[0;36m0\u001b[0m\u001b[0;34m,\u001b[0m \u001b[0;36m1\u001b[0m\u001b[0;34m]\u001b[0m\u001b[0;34m:\u001b[0m \u001b[0;36m4\u001b[0m\u001b[0;34m}\u001b[0m\u001b[0;34m\u001b[0m\u001b[0m\n\u001b[0m",
        "\u001b[0;31mTypeError\u001b[0m: unhashable type: 'list'"
       ]
      }
     ],
     "prompt_number": 4
    },
    {
     "cell_type": "markdown",
     "metadata": {},
     "source": [
      "Modifier la valeur d'une cl\u00e9\n",
      "----------------------------\n",
      "\n",
      "Tout se fait tr\u00e8s facilement gr\u00e2ce aux crochets. Voici un exemple."
     ]
    },
    {
     "cell_type": "code",
     "collapsed": false,
     "input": [
      "numero_tel = {\"James Bond\": '007', \"M. Arignan\": '13.14.09.1515'}\n",
      "\n",
      "print(\"Avant : numero_tel =\", numero_tel)\n",
      "\n",
      "numero_tel[\"James Bond\"] = \"***\"\n",
      "\n",
      "print(\"Apr\u00e8s : numero_tel =\", numero_tel)"
     ],
     "language": "python",
     "metadata": {},
     "outputs": [
      {
       "output_type": "stream",
       "stream": "stdout",
       "text": [
        "Avant : numero_tel = {'James Bond': '007', 'M. Arignan': '13.14.09.1515'}\n",
        "Apr\u00e8s : numero_tel = {'James Bond': '***', 'M. Arignan': '13.14.09.1515'}\n"
       ]
      }
     ],
     "prompt_number": 1
    },
    {
     "cell_type": "markdown",
     "metadata": {},
     "source": [
      "Ajouter de nouvelles cl\u00e9s\n",
      "----------------------------\n",
      "\n",
      "Tout se fait de nouveau via l'utilisation de crochets comme le montre l'exemple suivant"
     ]
    },
    {
     "cell_type": "code",
     "collapsed": false,
     "input": [
      "notre_dico = {}\n",
      "\n",
      "print(\"Un dictionnaire vide au d\u00e9part :\", notre_dico)\n",
      "\n",
      "notre_dico[\"James Bond\"] = '007'\n",
      "notre_dico[\"M. Arignan\"] = '13.14.09.1515'\n",
      "\n",
      "print(\"Dictionnaire rempli maintenant :\", notre_dico)"
     ],
     "language": "python",
     "metadata": {},
     "outputs": [
      {
       "output_type": "stream",
       "stream": "stdout",
       "text": [
        "Un dictionnaire vide au d\u00e9part : {}\n",
        "Dictionnaire rempli maintenant : {'James Bond': '007', 'M. Arignan': '13.14.09.1515'}\n"
       ]
      }
     ],
     "prompt_number": 6
    },
    {
     "cell_type": "markdown",
     "metadata": {},
     "source": [
      "Copier un dictionnaire, attention danger !\n",
      "------------------------------------------\n",
      "\n",
      "Ci-dessous les variables `dico_ancien` et `dico_nouveau` pointent vers le m\u00eame emplacement m\u00e9moire car Python cherche \u00e0 limiter les copies des objets \"m\u00e9mophages\". Ceci permet de comprendre ce qu'il se passe."
     ]
    },
    {
     "cell_type": "code",
     "collapsed": false,
     "input": [
      "dico_ancien  = {\"un\": 1, \"deux\": 2, \"trois\": 3}\n",
      "dico_nouveau = dico_ancien\n",
      "\n",
      "dico_nouveau[\"quatre\"] = 4\n",
      "dico_nouveau[\"cinq\"]   = 5 \n",
      "\n",
      "print(\"dico_ancien  =\", dico_ancien)\n",
      "print(\"dico_nouveau =\", dico_nouveau)"
     ],
     "language": "python",
     "metadata": {},
     "outputs": [
      {
       "output_type": "stream",
       "stream": "stdout",
       "text": [
        "dico_ancien  = {'un': 1, 'trois': 3, 'cinq': 5, 'deux': 2, 'quatre': 4}\n",
        "dico_nouveau = {'un': 1, 'trois': 3, 'cinq': 5, 'deux': 2, 'quatre': 4}\n"
       ]
      }
     ],
     "prompt_number": 7
    },
    {
     "cell_type": "markdown",
     "metadata": {},
     "source": [
      "Pour copier un dictionnaire afin d'avoir deux versions diff\u00e9rentes en m\u00e9moire, il suffit de faire appel au module sp\u00e9cialis\u00e9 `copy`."
     ]
    },
    {
     "cell_type": "code",
     "collapsed": false,
     "input": [
      "from copy import deepcopy\n",
      "\n",
      "dico_ancien  = {\"un\": 1, \"deux\": 2, \"trois\": 3}\n",
      "dico_nouveau = deepcopy(dico_ancien)\n",
      "\n",
      "dico_nouveau[\"quatre\"] = 4\n",
      "dico_nouveau[\"cinq\"]   = 5 \n",
      "\n",
      "print(\"dico_ancien  =\", dico_ancien)\n",
      "print(\"dico_nouveau =\", dico_nouveau)"
     ],
     "language": "python",
     "metadata": {},
     "outputs": [
      {
       "output_type": "stream",
       "stream": "stdout",
       "text": [
        "dico_ancien  = {'un': 1, 'trois': 3, 'deux': 2}\n",
        "dico_nouveau = {'un': 1, 'trois': 3, 'cinq': 5, 'deux': 2, 'quatre': 4}\n"
       ]
      }
     ],
     "prompt_number": 8
    }
   ],
   "metadata": {}
  }
 ]
}