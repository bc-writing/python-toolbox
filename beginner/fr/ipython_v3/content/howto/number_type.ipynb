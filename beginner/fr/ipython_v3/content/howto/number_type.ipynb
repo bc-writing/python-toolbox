{
 "metadata": {
  "kernelspec": {
   "display_name": "Python 3",
   "language": "python",
   "name": "python3"
  },
  "language_info": {
   "codemirror_mode": {
    "name": "ipython",
    "version": 3
   },
   "file_extension": ".py",
   "mimetype": "text/x-python",
   "name": "python",
   "nbconvert_exporter": "python",
   "pygments_lexer": "ipython3",
   "version": "3.4.3"
  },
  "name": "",
  "signature": "sha256:1c5b30a0e1a5c2848250ca5491f2d6168f9b87a2e55a8baf578181da8f1e944e"
 },
 "nbformat": 3,
 "nbformat_minor": 0,
 "worksheets": [
  {
   "cells": [
    {
     "cell_type": "markdown",
     "metadata": {},
     "source": [
      "Les nombres - Diff\u00e9rents types\n",
      "==============================\n",
      "\n",
      "Entiers relatifs\n",
      "----------------\n",
      "\n",
      "Sous Python, les entiers relatifs ne sont pas limit\u00e9s en taille. Ils s'\u00e9crivent tr\u00e8s naturellement..."
     ]
    },
    {
     "cell_type": "code",
     "collapsed": false,
     "input": [
      "un                   = 1\n",
      "moins_dix            = -10\n",
      "grand_naturel        = 2**200\n",
      "oppose_grand_naturel = -2**200\n",
      "\n",
      "print(\"un                   :\", un)\n",
      "print(\"moins_dix            :\", moins_dix)\n",
      "print(\"grand_naturel        :\", grand_naturel)\n",
      "print(\"oppose_grand_naturel :\", oppose_grand_naturel)\n",
      "\n",
      "print(\"\")\n",
      "print(\"Type de un                   :\", type(un))\n",
      "print(\"Type de moins_dix            :\", type(moins_dix))\n",
      "print(\"Type de grand_naturel        :\", type(grand_naturel))\n",
      "print(\"Type de oppose_grand_naturel :\", type(oppose_grand_naturel))"
     ],
     "language": "python",
     "metadata": {},
     "outputs": [
      {
       "output_type": "stream",
       "stream": "stdout",
       "text": [
        "un                   : 1\n",
        "moins_dix            : -10\n",
        "grand_naturel        : 1606938044258990275541962092341162602522202993782792835301376\n",
        "oppose_grand_naturel : -1606938044258990275541962092341162602522202993782792835301376\n",
        "\n",
        "Type de un                   : <class 'int'>\n",
        "Type de moins_dix            : <class 'int'>\n",
        "Type de grand_naturel        : <class 'int'>\n",
        "Type de oppose_grand_naturel : <class 'int'>\n"
       ]
      }
     ],
     "prompt_number": 1
    },
    {
     "cell_type": "markdown",
     "metadata": {},
     "source": [
      "Nombres r\u00e9els approch\u00e9s\n",
      "-----------------------\n",
      "\n",
      "La notion de nombres r\u00e9els n'existe pas en informatique (m\u00eame si l'on peut faire appel \u00e0 des biblioth\u00e8ques de calcul formel qui tente d'effectuer un maximum de calculs de fa\u00e7on exacte). A la place, on dispose des nombres \u00e0 virgule flottante qui permettent de faire des calculs approch\u00e9s. Sans entrer dans les d\u00e9tails techniques, savoir que pour Python un nombre \u00e0 virgule est en fait un nombre \u00e0 virgule **flottante**, et non un nombre d\u00e9cimal, permet de ne pas trop \u00eatre surpris par ce qu'affiche le code suivant (\u00e0 cette adresse [http://www.afpy.org/doc/python/2.7/tutorial/floatingpoint.html](http://www.afpy.org/doc/python/2.7/tutorial/floatingpoint.html) se trouve un document expliquant tr\u00e8s bien ce qu'il se passe en coulisse)."
     ]
    },
    {
     "cell_type": "code",
     "collapsed": false,
     "input": [
      "resultat_bizarre = 0.1 + 0.2\n",
      "\n",
      "print(\"resultat_bizarre :\", resultat_bizarre)\n",
      "print(\"Type de resultat_bizarre :\", type(resultat_bizarre))"
     ],
     "language": "python",
     "metadata": {},
     "outputs": [
      {
       "output_type": "stream",
       "stream": "stdout",
       "text": [
        "resultat_bizarre : 0.30000000000000004\n",
        "Type de resultat_bizarre : <class 'float'>\n"
       ]
      }
     ],
     "prompt_number": 5
    },
    {
     "cell_type": "markdown",
     "metadata": {},
     "source": [
      "D\u00e9cimaux\n",
      "--------\n",
      "\n",
      "Il est possible de travailler de fa\u00e7on exacte avec des nombres d\u00e9cimaux via un module Python sp\u00e9cialis\u00e9. Il suffit de proc\u00e9der comme suit."
     ]
    },
    {
     "cell_type": "code",
     "collapsed": false,
     "input": [
      "from decimal import Decimal\n",
      "\n",
      "resultat_normal = Decimal(\"0.1\") + Decimal(\"0.2\")\n",
      "\n",
      "print(\"resultat_normal :\", resultat_normal)\n",
      "print(\"Type de resultat_normal :\", type(resultat_normal))"
     ],
     "language": "python",
     "metadata": {},
     "outputs": [
      {
       "output_type": "stream",
       "stream": "stdout",
       "text": [
        "resultat_normal : 0.3\n",
        "Type de resultat_normal : <class 'decimal.Decimal'>\n"
       ]
      }
     ],
     "prompt_number": 2
    },
    {
     "cell_type": "markdown",
     "metadata": {},
     "source": [
      "Fractions\n",
      "---------\n",
      "\n",
      "On peut d\u00e9finir des fractions rationnelles en gardant leur valeur exacte gr\u00e2ce \u00e0 un module Python sp\u00e9cialis\u00e9."
     ]
    },
    {
     "cell_type": "code",
     "collapsed": false,
     "input": [
      "from fractions import Fraction\n",
      "\n",
      "fraction_approchee = 1/3\n",
      "fraction_exacte    = Fraction(\"1/3\")\n",
      "\n",
      "print(\"fraction_approchee :\", fraction_approchee)\n",
      "print(\"fraction_exacte    :\", fraction_exacte)\n",
      "\n",
      "print(\"\")\n",
      "print(\"Type de fraction_approchee :\", type(fraction_approchee))\n",
      "print(\"Type de fraction_exacte    :\", type(fraction_exacte))"
     ],
     "language": "python",
     "metadata": {},
     "outputs": [
      {
       "output_type": "stream",
       "stream": "stdout",
       "text": [
        "fraction_approchee : 0.3333333333333333\n",
        "fraction_exacte    : 1/3\n",
        "\n",
        "Type de fraction_approchee : <class 'float'>\n",
        "Type de fraction_exacte    : <class 'fractions.Fraction'>\n"
       ]
      }
     ],
     "prompt_number": 2
    },
    {
     "cell_type": "markdown",
     "metadata": {},
     "source": [
      "Nombres complexes approch\u00e9s\n",
      "---------------------------\n",
      "\n",
      "Python propose par d\u00e9faut un type pour calculer avec des nombres complexes approch\u00e9s, plus pr\u00e9cis\u00e9ment ces nombres seront des complexes ayant pour parties imaginaire et r\u00e9elle des nombres \u00e0 virgule flottante. "
     ]
    },
    {
     "cell_type": "code",
     "collapsed": false,
     "input": [
      "# Attention ! j tout seul ne fonctionnera pas.\n",
      "nbre_i_en_math    = 1j\n",
      "un_reel_complexe  = 2 + 0j\n",
      "\n",
      "un_complexe       = 2 - 4j\n",
      "partie_imaginaire = un_complexe.imag\n",
      "partie_reelle     = un_complexe.real\n",
      "\n",
      "print(\"nbre_i_en_math    :\", nbre_i_en_math) \n",
      "print(\"un_reel_complexe  :\", un_reel_complexe) \n",
      "\n",
      "print(\"un_complexe       :\", un_complexe) \n",
      "print(\"partie_imaginaire :\", partie_imaginaire) \n",
      "print(\"partie_reelle     :\", partie_reelle) \n",
      "\n",
      "print(\"\")\n",
      "print(\"Type de nbre_i_en_math   :\", type(nbre_i_en_math))\n",
      "print(\"Type de un_reel_complexe :\", type(un_reel_complexe))\n",
      "\n",
      "print(\"\")\n",
      "print(\"Type de un_complexe       :\", type(un_complexe))\n",
      "print(\"Type de partie_imaginaire :\", type(partie_imaginaire))\n",
      "print(\"Type de partie_reelle     :\", type(partie_reelle))"
     ],
     "language": "python",
     "metadata": {},
     "outputs": [
      {
       "output_type": "stream",
       "stream": "stdout",
       "text": [
        "nbre_i_en_math    : 1j\n",
        "un_reel_complexe  : (2+0j)\n",
        "un_complexe       : (2-4j)\n",
        "partie_imaginaire : -4.0\n",
        "partie_reelle     : 2.0\n",
        "\n",
        "Type de nbre_i_en_math   : <class 'complex'>\n",
        "Type de un_reel_complexe : <class 'complex'>\n",
        "\n",
        "Type de un_complexe       : <class 'complex'>\n",
        "Type de partie_imaginaire : <class 'float'>\n",
        "Type de partie_reelle     : <class 'float'>\n"
       ]
      }
     ],
     "prompt_number": 3
    },
    {
     "cell_type": "markdown",
     "metadata": {},
     "source": [
      "R\u00e9cup\u00e9rer un nombre d'un type particulier demand\u00e9 \u00e0 l'utilisateur\n",
      "-----------------------------------------------------------------\n",
      "\n",
      "Pour chacun des types rencontr\u00e9s pr\u00e9c\u00e9demment, autre que les cas particuliers des d\u00e9cimaux et des fractions, il existe une fonction \u00e9ponyme qui transforme une cha\u00eene de caract\u00e8res en un nombre du type souhait\u00e9, dans la mesure du possible. Ceci permet de r\u00e9cup\u00e9rer un nombre d'un type particulier demand\u00e9 \u00e0 l'utilisateur dans une invite de commandes ou un terminal."
     ]
    },
    {
     "cell_type": "code",
     "collapsed": false,
     "input": [
      "reponse_texte = input(\"Entrer un nombre : \")\n",
      "\n",
      "version_entiere   = int(reponse_texte)\n",
      "version_flottante = float(reponse_texte)\n",
      "version_complexe  = complex(reponse_texte)\n",
      "\n",
      "print(\"\")\n",
      "print(\"R\u00e9ponse via `input` :\", reponse_texte)\n",
      "print(\"Type : \", type(reponse_texte))\n",
      "\n",
      "print(\"\")\n",
      "print(\"Version `int` :\", version_entiere)\n",
      "print(\"Type : \", type(version_entiere))\n",
      "\n",
      "print(\"\")\n",
      "print(\"Version `float` :\", version_flottante)\n",
      "print(\"Type ; \", type(version_flottante))\n",
      "\n",
      "print(\"\")\n",
      "print(\"Version `complex` :\", version_complexe)\n",
      "print(\"Type : \", type(version_complexe))"
     ],
     "language": "python",
     "metadata": {},
     "outputs": [
      {
       "output_type": "stream",
       "stream": "stdout",
       "text": [
        "Entrer un nombre : 1418\n",
        "\n",
        "R\u00e9ponse via `input` : 1418\n",
        "Type :  <class 'str'>\n",
        "\n",
        "Version `int` : 1418\n",
        "Type :  <class 'int'>\n",
        "\n",
        "Version `float` : 1418.0\n",
        "Type ;  <class 'float'>\n",
        "\n",
        "Version `complex` : (1418+0j)\n",
        "Type :  <class 'complex'>\n"
       ]
      }
     ],
     "prompt_number": 5
    }
   ],
   "metadata": {}
  }
 ]
}