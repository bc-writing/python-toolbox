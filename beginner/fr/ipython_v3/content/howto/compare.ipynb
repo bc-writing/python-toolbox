{
 "metadata": {
  "kernelspec": {
   "display_name": "Python 3",
   "language": "python",
   "name": "python3"
  },
  "language_info": {
   "codemirror_mode": {
    "name": "ipython",
    "version": 3
   },
   "file_extension": ".py",
   "mimetype": "text/x-python",
   "name": "python",
   "nbconvert_exporter": "python",
   "pygments_lexer": "ipython3",
   "version": "3.4.3"
  },
  "name": "",
  "signature": "sha256:11c19edc493dbfae1fc271de65415baca199b367a30a600774acd6f36bcb6c4a"
 },
 "nbformat": 3,
 "nbformat_minor": 0,
 "worksheets": [
  {
   "cells": [
    {
     "cell_type": "markdown",
     "metadata": {},
     "source": [
      "Comparer c'est tester\n",
      "=====================\n",
      "\n",
      "A-t-on \u00e9galit\u00e9 ?\n",
      "----------------\n",
      "\n",
      "Une grande partie des langages de programmation utilisent `=` pour affecter une valeur \u00e0 une variable, et `==` pour tester une \u00e9galit\u00e9. Python fait partie de ces langages. Notez au passage le manque de clart\u00e9 en math\u00e9matiques o\u00f9 l'on peut \u00e9crire *\"Soit $x = 4$\"* et *\"A-t-on $x = 4$ ?\"* dans deux contextes diff\u00e9rents."
     ]
    },
    {
     "cell_type": "code",
     "collapsed": false,
     "input": [
      "x = 2\n",
      "\n",
      "print(\"A-t-on x = 2 ?\", x == 2)\n",
      "print(\"A-t-on x = 5 ?\", x == 5)"
     ],
     "language": "python",
     "metadata": {},
     "outputs": [
      {
       "output_type": "stream",
       "stream": "stdout",
       "text": [
        "A-t-on x = 2 ? True\n",
        "A-t-on x = 5 ? False\n"
       ]
      }
     ],
     "prompt_number": 2
    },
    {
     "cell_type": "markdown",
     "metadata": {},
     "source": [
      "On note que les tests d'\u00e9galit\u00e9 renvoient un r\u00e9sultat de type bool\u00e9en. Ce sera aussi le cas des tests de comparaison de type \"ordre\" pr\u00e9sent\u00e9s un peu plus bas."
     ]
    },
    {
     "cell_type": "markdown",
     "metadata": {},
     "source": [
      "Est-ce diff\u00e9rent ?\n",
      "------------------\n",
      "\n",
      "L'op\u00e9rateur `!=` teste si deux variables sont diff\u00e9rentes. Voici un exemple."
     ]
    },
    {
     "cell_type": "code",
     "collapsed": false,
     "input": [
      "x = 2\n",
      "\n",
      "print(\"A-t-on x diff\u00e9rent 2 ?\", x != 2)\n",
      "print(\"A-t-on x diff\u00e9rent 5 ?\", x != 5)"
     ],
     "language": "python",
     "metadata": {},
     "outputs": [
      {
       "output_type": "stream",
       "stream": "stdout",
       "text": [
        "A-t-on x diff\u00e9rent 2 ? False\n",
        "A-t-on x diff\u00e9rent 5 ? True\n"
       ]
      }
     ],
     "prompt_number": 3
    },
    {
     "cell_type": "markdown",
     "metadata": {},
     "source": [
      "Plus petit, plus grand et compagnie\n",
      "-----------------------------------\n",
      "\n",
      "Dans le code suivant, remarquez qu'il est possible d'utiliser directement `1 <= x < 3` sans avoir \u00e0 faire `(1 <= x) and (x < 3)`."
     ]
    },
    {
     "cell_type": "code",
     "collapsed": false,
     "input": [
      "x = 2\n",
      "\n",
      "print(\"A-t-on x > 0 ?     \", x > 0)\n",
      "print(\"A-t-on x > 2 ?     \", x > 2)\n",
      "print(\"A-t-on x <= 2 ?    \", x <= 2)\n",
      "print(\"A-t-on 1 <= x < 3 ?\", 1 <= x < 3) "
     ],
     "language": "python",
     "metadata": {},
     "outputs": [
      {
       "output_type": "stream",
       "stream": "stdout",
       "text": [
        "A-t-on x > 0 ?      True\n",
        "A-t-on x > 2 ?      False\n",
        "A-t-on x <= 2 ?     True\n",
        "A-t-on 1 <= x < 3 ? True\n"
       ]
      }
     ],
     "prompt_number": 4
    },
    {
     "cell_type": "markdown",
     "metadata": {},
     "source": [
      "Attention danger ! `1` et `True` sont \u00e9gaux mais pas identiques pour Python \n",
      "----------------------------------------------------------------------------\n",
      "\n",
      "Les op\u00e9rateurs de comparaison peuvent s'appliquer \u00e0 des types diff\u00e9rents de variables. Voici un premier exemple. Le r\u00e9sultat est pr\u00e9visible car `2` d\u00e9signe le naturel $2$, tandis que `\"2\"` d\u00e9signe le texte r\u00e9duit \u00e0 l'unique caract\u00e8re 2."
     ]
    },
    {
     "cell_type": "code",
     "collapsed": false,
     "input": [
      "x = 2\n",
      "\n",
      "print('x == \"2\" vaut', x == \"2\")"
     ],
     "language": "python",
     "metadata": {},
     "outputs": [
      {
       "output_type": "stream",
       "stream": "stdout",
       "text": [
        "x == \"2\" vaut False\n"
       ]
      }
     ],
     "prompt_number": 5
    },
    {
     "cell_type": "markdown",
     "metadata": {},
     "source": [
      "Regardons un code un peu plus probl\u00e9matique."
     ]
    },
    {
     "cell_type": "code",
     "collapsed": false,
     "input": [
      "print(1 == True)"
     ],
     "language": "python",
     "metadata": {},
     "outputs": [
      {
       "output_type": "stream",
       "stream": "stdout",
       "text": [
        "True\n"
       ]
      }
     ],
     "prompt_number": 6
    },
    {
     "cell_type": "markdown",
     "metadata": {},
     "source": [
      "La section sur les bool\u00e9ens explique que dans l'impl\u00e9mentation de Python les bool\u00e9ens sont d'une certaine fa\u00e7on des naturels. Ceci permet de comprendre le r\u00e9sultat \u00e9trange pr\u00e9c\u00e9dent. Si vous souhaitez vraiment comparer strictement et rigoureusement une variable \u00e0 une valeur bool\u00e9enne, il faudra utiliser l'op\u00e9rateur `is` comme dans le code suivant."
     ]
    },
    {
     "cell_type": "code",
     "collapsed": false,
     "input": [
      "print(1 is True)"
     ],
     "language": "python",
     "metadata": {},
     "outputs": [
      {
       "output_type": "stream",
       "stream": "stdout",
       "text": [
        "False\n"
       ]
      }
     ],
     "prompt_number": 7
    }
   ],
   "metadata": {}
  }
 ]
}