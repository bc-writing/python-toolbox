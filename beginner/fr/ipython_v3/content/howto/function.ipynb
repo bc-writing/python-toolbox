{
 "metadata": {
  "kernelspec": {
   "display_name": "Python 3",
   "language": "python",
   "name": "python3"
  },
  "language_info": {
   "codemirror_mode": {
    "name": "ipython",
    "version": 3
   },
   "file_extension": ".py",
   "mimetype": "text/x-python",
   "name": "python",
   "nbconvert_exporter": "python",
   "pygments_lexer": "ipython3",
   "version": "3.4.3"
  },
  "name": "",
  "signature": "sha256:d92b6816052fc9387bca8a104a4e19c543d6264ef7b24feb785981334cf769be"
 },
 "nbformat": 3,
 "nbformat_minor": 0,
 "worksheets": [
  {
   "cells": [
    {
     "cell_type": "markdown",
     "metadata": {},
     "source": [
      "Organiser son code - Les fonctions\n",
      "==================================\n",
      "\n",
      "Scinder son code en petits bouts\n",
      "--------------------------------\n",
      "\n",
      "Organiser un code est une tache importante, et pas toujours simple. L'une des techniques consistent \u00e0 d\u00e9finir des fonctions qui agissent de fa\u00e7on pr\u00e9cise sur des arguments donn\u00e9s. Une fonction peut se d\u00e9finir comme suit (nous ne faisons qu'effleurer les choses ici)."
     ]
    },
    {
     "cell_type": "code",
     "collapsed": false,
     "input": [
      "def puissance(x, n):\n",
      "    return x**n\n",
      "\n",
      "def carre(x):\n",
      "    return puissance(x, 2)\n",
      "\n",
      "def cube(x):\n",
      "    return puissance(x, 3)\n",
      "\n",
      "print(\"Carr\u00e9 de 2 :\", carre(2))\n",
      "print(\"Cube de 5  :\", cube(5))"
     ],
     "language": "python",
     "metadata": {
      "slideshow": {
       "slide_type": "slide"
      }
     },
     "outputs": [
      {
       "output_type": "stream",
       "stream": "stdout",
       "text": [
        "Carr\u00e9 de 2 : 4\n",
        "Cube de 5  : 125\n"
       ]
      }
     ],
     "prompt_number": 38
    },
    {
     "cell_type": "markdown",
     "metadata": {},
     "source": [
      "Indentation, attention danger !\n",
      "-------------------------------\n",
      "\n",
      "L'indentation est importante comme le montre le code suivant o\u00f9 la fonction `cube_test` n'existe qu'au sein de la fonction `carre_test`. Notez au passage la possibilit\u00e9 de d\u00e9finir des fonctions dans le code d'une fonction, une technique qui a des applications tr\u00e8s concr\u00e8tes via un outil tr\u00e8s puissant que sont les d\u00e9corateurs Python (ceci ne sera pas du tout abord\u00e9 dans ce document)."
     ]
    },
    {
     "cell_type": "code",
     "collapsed": false,
     "input": [
      "def carre_test(x):\n",
      "    def cube_test(x):\n",
      "        return x**3\n",
      "\n",
      "    return x**2\n",
      "\n",
      "# Fonction carre_test utilisable.\n",
      "print(\"Carr\u00e9 de 2 :\", carre_test(2))\n",
      "\n",
      "# Fonction cube_test inconnue en dehors de carre_test.\n",
      "print(\"Cube de 5  :\", cube_test(5))"
     ],
     "language": "python",
     "metadata": {},
     "outputs": [
      {
       "output_type": "stream",
       "stream": "stdout",
       "text": [
        "Carr\u00e9 de 2 : 4\n"
       ]
      },
      {
       "ename": "NameError",
       "evalue": "name 'cube_test' is not defined",
       "output_type": "pyerr",
       "traceback": [
        "\u001b[0;31m---------------------------------------------------------------------------\u001b[0m",
        "\u001b[0;31mNameError\u001b[0m                                 Traceback (most recent call last)",
        "\u001b[0;32m<ipython-input-39-7ef84e534a61>\u001b[0m in \u001b[0;36m<module>\u001b[0;34m()\u001b[0m\n\u001b[1;32m      9\u001b[0m \u001b[0;34m\u001b[0m\u001b[0m\n\u001b[1;32m     10\u001b[0m \u001b[0;31m# Fonction cube_test inconnue en dehors de carre_test.\u001b[0m\u001b[0;34m\u001b[0m\u001b[0;34m\u001b[0m\u001b[0m\n\u001b[0;32m---> 11\u001b[0;31m \u001b[0mprint\u001b[0m\u001b[0;34m(\u001b[0m\u001b[0;34m\"Cube de 5  :\"\u001b[0m\u001b[0;34m,\u001b[0m \u001b[0mcube_test\u001b[0m\u001b[0;34m(\u001b[0m\u001b[0;36m5\u001b[0m\u001b[0;34m)\u001b[0m\u001b[0;34m)\u001b[0m\u001b[0;34m\u001b[0m\u001b[0m\n\u001b[0m",
        "\u001b[0;31mNameError\u001b[0m: name 'cube_test' is not defined"
       ]
      }
     ],
     "prompt_number": 39
    },
    {
     "cell_type": "markdown",
     "metadata": {},
     "source": [
      "Port\u00e9e des variables\n",
      "--------------------\n",
      "\n",
      "Il peut arriver que l'on souhaite modifier une variable au sein d'une fonction en gardant cette nouvelle valeur dans la suite de l'ex\u00e9cution du code (dans ce type de situation, la programmation orient\u00e9 objet devient une technique tr\u00e8s efficace, mais ceci ne sera pas abord\u00e9 dans ce document). Commen\u00e7ons par un code ne fonctionnant pas."
     ]
    },
    {
     "cell_type": "code",
     "collapsed": false,
     "input": [
      "x = 5\n",
      "\n",
      "def modifie_x():\n",
      "    x = x + 10\n",
      "\n",
      "print(\"Avant : x =\", x)\n",
      "modifie_x()\n",
      "print(\"Apr\u00e8s : x =\", x)"
     ],
     "language": "python",
     "metadata": {},
     "outputs": [
      {
       "output_type": "stream",
       "stream": "stdout",
       "text": [
        "Avant : x = 5\n"
       ]
      },
      {
       "ename": "UnboundLocalError",
       "evalue": "local variable 'x' referenced before assignment",
       "output_type": "pyerr",
       "traceback": [
        "\u001b[0;31m---------------------------------------------------------------------------\u001b[0m",
        "\u001b[0;31mUnboundLocalError\u001b[0m                         Traceback (most recent call last)",
        "\u001b[0;32m<ipython-input-40-87436836dfd5>\u001b[0m in \u001b[0;36m<module>\u001b[0;34m()\u001b[0m\n\u001b[1;32m      5\u001b[0m \u001b[0;34m\u001b[0m\u001b[0m\n\u001b[1;32m      6\u001b[0m \u001b[0mprint\u001b[0m\u001b[0;34m(\u001b[0m\u001b[0;34m\"Avant : x =\"\u001b[0m\u001b[0;34m,\u001b[0m \u001b[0mx\u001b[0m\u001b[0;34m)\u001b[0m\u001b[0;34m\u001b[0m\u001b[0m\n\u001b[0;32m----> 7\u001b[0;31m \u001b[0mmodifie_x\u001b[0m\u001b[0;34m(\u001b[0m\u001b[0;34m)\u001b[0m\u001b[0;34m\u001b[0m\u001b[0m\n\u001b[0m\u001b[1;32m      8\u001b[0m \u001b[0mprint\u001b[0m\u001b[0;34m(\u001b[0m\u001b[0;34m\"Apr\u00e8s : x =\"\u001b[0m\u001b[0;34m,\u001b[0m \u001b[0mx\u001b[0m\u001b[0;34m)\u001b[0m\u001b[0;34m\u001b[0m\u001b[0m\n",
        "\u001b[0;32m<ipython-input-40-87436836dfd5>\u001b[0m in \u001b[0;36mmodifie_x\u001b[0;34m()\u001b[0m\n\u001b[1;32m      2\u001b[0m \u001b[0;34m\u001b[0m\u001b[0m\n\u001b[1;32m      3\u001b[0m \u001b[0;32mdef\u001b[0m \u001b[0mmodifie_x\u001b[0m\u001b[0;34m(\u001b[0m\u001b[0;34m)\u001b[0m\u001b[0;34m:\u001b[0m\u001b[0;34m\u001b[0m\u001b[0m\n\u001b[0;32m----> 4\u001b[0;31m     \u001b[0mx\u001b[0m \u001b[0;34m=\u001b[0m \u001b[0mx\u001b[0m \u001b[0;34m+\u001b[0m \u001b[0;36m10\u001b[0m\u001b[0;34m\u001b[0m\u001b[0m\n\u001b[0m\u001b[1;32m      5\u001b[0m \u001b[0;34m\u001b[0m\u001b[0m\n\u001b[1;32m      6\u001b[0m \u001b[0mprint\u001b[0m\u001b[0;34m(\u001b[0m\u001b[0;34m\"Avant : x =\"\u001b[0m\u001b[0;34m,\u001b[0m \u001b[0mx\u001b[0m\u001b[0;34m)\u001b[0m\u001b[0;34m\u001b[0m\u001b[0m\n",
        "\u001b[0;31mUnboundLocalError\u001b[0m: local variable 'x' referenced before assignment"
       ]
      }
     ],
     "prompt_number": 40
    },
    {
     "cell_type": "markdown",
     "metadata": {},
     "source": [
      "Le message indique que la variable `x` est inconue du point de vue de la fonction `modifie_x`. Le mot cl\u00e9 `global` permet d'indiquer \u00e0 une fonction une variable existant globalement. On obtient ainsi le code suivant qui fait ce qui est attendu."
     ]
    },
    {
     "cell_type": "code",
     "collapsed": false,
     "input": [
      "x = 5\n",
      "\n",
      "def modifie_x_avec_global():\n",
      "    global x\n",
      "    x = x + 10\n",
      "\n",
      "print(\"Avant : x =\", x)\n",
      "modifie_x_avec_global()\n",
      "print(\"Apr\u00e8s : x =\", x)"
     ],
     "language": "python",
     "metadata": {},
     "outputs": [
      {
       "output_type": "stream",
       "stream": "stdout",
       "text": [
        "Avant : x = 5\n",
        "Apr\u00e8s : x = 15\n"
       ]
      }
     ],
     "prompt_number": 41
    },
    {
     "cell_type": "markdown",
     "metadata": {},
     "source": [
      "Indiquons que pour des variables \"m\u00e9mophages\" comme les listes, les ensembles et les dictionnaires, il peut y avoir des comportements bizarres comme le montre le code suivant (voir ce qui a \u00e9t\u00e9 dit \u00e0 propos de la copie des listes, des dictionnaires ou des ensembles)."
     ]
    },
    {
     "cell_type": "code",
     "collapsed": false,
     "input": [
      "# Une m\u00e9thode qui marche.\n",
      "liste = [\"et un\", \"et deux\"]\n",
      "\n",
      "def modifie_liste_accepte():\n",
      "    liste.append(\"et trois z\u00e9ro\")\n",
      "\n",
      "print(\"modifie_liste_accepte - Avant\")\n",
      "print(\"=============================\")\n",
      "print(\"liste =\", liste)\n",
      "\n",
      "modifie_liste_accepte()\n",
      "print(\"\")\n",
      "\n",
      "print(\"modifie_liste_accepte - Apr\u00e8s\")\n",
      "print(\"=============================\")\n",
      "print(\"liste =\", liste)\n",
      "\n",
      "\n",
      "# Une m\u00e9thode qui pose probl\u00e8me.\n",
      "liste = [\"et un\", \"et deux\"]\n",
      "\n",
      "def modifie_liste_problematique():\n",
      "    liste = liste + [\"et trois z\u00e9ro\"]\n",
      "\n",
      "print(\"\")\n",
      "print(\"modifie_liste_problematique - Avant\")\n",
      "print(\"===================================\")\n",
      "print(\"liste =\", liste)\n",
      "\n",
      "modifie_liste_problematique()\n",
      "print(\"\")\n",
      "print(\"modifie_liste_problematique - Apr\u00e8s\")\n",
      "print(\"===================================\")\n",
      "print(\"liste =\", liste)"
     ],
     "language": "python",
     "metadata": {},
     "outputs": [
      {
       "output_type": "stream",
       "stream": "stdout",
       "text": [
        "modifie_liste_accepte - Avant\n",
        "=============================\n",
        "liste = ['et un', 'et deux']\n",
        "\n",
        "modifie_liste_accepte - Apr\u00e8s\n",
        "=============================\n",
        "liste = ['et un', 'et deux', 'et trois z\u00e9ro']\n",
        "\n",
        "modifie_liste_problematique - Avant\n",
        "===================================\n",
        "liste = ['et un', 'et deux']\n"
       ]
      },
      {
       "ename": "UnboundLocalError",
       "evalue": "local variable 'liste' referenced before assignment",
       "output_type": "pyerr",
       "traceback": [
        "\u001b[0;31m---------------------------------------------------------------------------\u001b[0m",
        "\u001b[0;31mUnboundLocalError\u001b[0m                         Traceback (most recent call last)",
        "\u001b[0;32m<ipython-input-42-0d911c15b216>\u001b[0m in \u001b[0;36m<module>\u001b[0;34m()\u001b[0m\n\u001b[1;32m     28\u001b[0m \u001b[0mprint\u001b[0m\u001b[0;34m(\u001b[0m\u001b[0;34m\"liste =\"\u001b[0m\u001b[0;34m,\u001b[0m \u001b[0mliste\u001b[0m\u001b[0;34m)\u001b[0m\u001b[0;34m\u001b[0m\u001b[0m\n\u001b[1;32m     29\u001b[0m \u001b[0;34m\u001b[0m\u001b[0m\n\u001b[0;32m---> 30\u001b[0;31m \u001b[0mmodifie_liste_problematique\u001b[0m\u001b[0;34m(\u001b[0m\u001b[0;34m)\u001b[0m\u001b[0;34m\u001b[0m\u001b[0m\n\u001b[0m\u001b[1;32m     31\u001b[0m \u001b[0mprint\u001b[0m\u001b[0;34m(\u001b[0m\u001b[0;34m\"\"\u001b[0m\u001b[0;34m)\u001b[0m\u001b[0;34m\u001b[0m\u001b[0m\n\u001b[1;32m     32\u001b[0m \u001b[0mprint\u001b[0m\u001b[0;34m(\u001b[0m\u001b[0;34m\"modifie_liste_problematique - Apr\u00e8s\"\u001b[0m\u001b[0;34m)\u001b[0m\u001b[0;34m\u001b[0m\u001b[0m\n",
        "\u001b[0;32m<ipython-input-42-0d911c15b216>\u001b[0m in \u001b[0;36mmodifie_liste_problematique\u001b[0;34m()\u001b[0m\n\u001b[1;32m     21\u001b[0m \u001b[0;34m\u001b[0m\u001b[0m\n\u001b[1;32m     22\u001b[0m \u001b[0;32mdef\u001b[0m \u001b[0mmodifie_liste_problematique\u001b[0m\u001b[0;34m(\u001b[0m\u001b[0;34m)\u001b[0m\u001b[0;34m:\u001b[0m\u001b[0;34m\u001b[0m\u001b[0m\n\u001b[0;32m---> 23\u001b[0;31m     \u001b[0mliste\u001b[0m \u001b[0;34m=\u001b[0m \u001b[0mliste\u001b[0m \u001b[0;34m+\u001b[0m \u001b[0;34m[\u001b[0m\u001b[0;34m\"et trois z\u00e9ro\"\u001b[0m\u001b[0;34m]\u001b[0m\u001b[0;34m\u001b[0m\u001b[0m\n\u001b[0m\u001b[1;32m     24\u001b[0m \u001b[0;34m\u001b[0m\u001b[0m\n\u001b[1;32m     25\u001b[0m \u001b[0mprint\u001b[0m\u001b[0;34m(\u001b[0m\u001b[0;34m\"\"\u001b[0m\u001b[0;34m)\u001b[0m\u001b[0;34m\u001b[0m\u001b[0m\n",
        "\u001b[0;31mUnboundLocalError\u001b[0m: local variable 'liste' referenced before assignment"
       ]
      }
     ],
     "prompt_number": 42
    },
    {
     "cell_type": "markdown",
     "metadata": {},
     "source": [
      "Expliquons rapidement le probl\u00e8me rencontr\u00e9 ici. Lorsque Python ex\u00e9cute le code, il rencontre `liste = ...` or il n'existe pas de variable `liste` du point de vue de la fonction. Ceci aboutit alors \u00e0 l'erreur *\"local variable 'liste' referenced before assignment\"* soit *\"variable locale 'liste' referenc\u00e9 avant affectation\"*. Le code suivant montre que c'est bien l'ex\u00e9cution du code qui renvoie une erreur et non son analyse syntaxique."
     ]
    },
    {
     "cell_type": "code",
     "collapsed": false,
     "input": [
      "liste = [\"et un\", \"et deux\"]\n",
      "\n",
      "def modifie_liste_problematique():\n",
      "    print(\"Je suis affich\u00e9 si le code est ex\u00e9cut\u00e9.\")\n",
      "    liste = liste + [\"et trois z\u00e9ro\"]\n",
      "\n",
      "modifie_liste_problematique()"
     ],
     "language": "python",
     "metadata": {},
     "outputs": [
      {
       "output_type": "stream",
       "stream": "stdout",
       "text": [
        "Je suis affich\u00e9 si le code est ex\u00e9cut\u00e9.\n"
       ]
      },
      {
       "ename": "UnboundLocalError",
       "evalue": "local variable 'liste' referenced before assignment",
       "output_type": "pyerr",
       "traceback": [
        "\u001b[0;31m---------------------------------------------------------------------------\u001b[0m",
        "\u001b[0;31mUnboundLocalError\u001b[0m                         Traceback (most recent call last)",
        "\u001b[0;32m<ipython-input-43-982a4a6ce25f>\u001b[0m in \u001b[0;36m<module>\u001b[0;34m()\u001b[0m\n\u001b[1;32m      5\u001b[0m     \u001b[0mliste\u001b[0m \u001b[0;34m=\u001b[0m \u001b[0mliste\u001b[0m \u001b[0;34m+\u001b[0m \u001b[0;34m[\u001b[0m\u001b[0;34m\"et trois z\u00e9ro\"\u001b[0m\u001b[0;34m]\u001b[0m\u001b[0;34m\u001b[0m\u001b[0m\n\u001b[1;32m      6\u001b[0m \u001b[0;34m\u001b[0m\u001b[0m\n\u001b[0;32m----> 7\u001b[0;31m \u001b[0mmodifie_liste_problematique\u001b[0m\u001b[0;34m(\u001b[0m\u001b[0;34m)\u001b[0m\u001b[0;34m\u001b[0m\u001b[0m\n\u001b[0m",
        "\u001b[0;32m<ipython-input-43-982a4a6ce25f>\u001b[0m in \u001b[0;36mmodifie_liste_problematique\u001b[0;34m()\u001b[0m\n\u001b[1;32m      3\u001b[0m \u001b[0;32mdef\u001b[0m \u001b[0mmodifie_liste_problematique\u001b[0m\u001b[0;34m(\u001b[0m\u001b[0;34m)\u001b[0m\u001b[0;34m:\u001b[0m\u001b[0;34m\u001b[0m\u001b[0m\n\u001b[1;32m      4\u001b[0m     \u001b[0mprint\u001b[0m\u001b[0;34m(\u001b[0m\u001b[0;34m\"Je suis affich\u00e9 si le code est ex\u00e9cut\u00e9.\"\u001b[0m\u001b[0;34m)\u001b[0m\u001b[0;34m\u001b[0m\u001b[0m\n\u001b[0;32m----> 5\u001b[0;31m     \u001b[0mliste\u001b[0m \u001b[0;34m=\u001b[0m \u001b[0mliste\u001b[0m \u001b[0;34m+\u001b[0m \u001b[0;34m[\u001b[0m\u001b[0;34m\"et trois z\u00e9ro\"\u001b[0m\u001b[0;34m]\u001b[0m\u001b[0;34m\u001b[0m\u001b[0m\n\u001b[0m\u001b[1;32m      6\u001b[0m \u001b[0;34m\u001b[0m\u001b[0m\n\u001b[1;32m      7\u001b[0m \u001b[0mmodifie_liste_problematique\u001b[0m\u001b[0;34m(\u001b[0m\u001b[0;34m)\u001b[0m\u001b[0;34m\u001b[0m\u001b[0m\n",
        "\u001b[0;31mUnboundLocalError\u001b[0m: local variable 'liste' referenced before assignment"
       ]
      }
     ],
     "prompt_number": 43
    },
    {
     "cell_type": "markdown",
     "metadata": {},
     "source": [
      "**Conseil :** utilisez `global` d\u00e8s que vous souhaitez agir globalement, et sinon utilisez un nom *\"non global\"* pour une variable utilis\u00e9e uniquement dans le code d'une fonction."
     ]
    }
   ],
   "metadata": {}
  }
 ]
}