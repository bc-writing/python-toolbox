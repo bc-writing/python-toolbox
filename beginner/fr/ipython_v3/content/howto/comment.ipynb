{
 "metadata": {
  "kernelspec": {
   "display_name": "Python 3",
   "language": "python",
   "name": "python3"
  },
  "language_info": {
   "codemirror_mode": {
    "name": "ipython",
    "version": 3
   },
   "file_extension": ".py",
   "mimetype": "text/x-python",
   "name": "python",
   "nbconvert_exporter": "python",
   "pygments_lexer": "ipython3",
   "version": "3.4.3"
  },
  "name": "",
  "signature": "sha256:10b0098395782d0bb1a89821d28e5e0d8dc15e42e557d4bec8c18e2a6c08cc97"
 },
 "nbformat": 3,
 "nbformat_minor": 0,
 "worksheets": [
  {
   "cells": [
    {
     "cell_type": "markdown",
     "metadata": {},
     "source": [
      "Commenter, c'est important\n",
      "==========================\n",
      "\n",
      "Python ne propose qu'un seul type de commentaires : il faut utiliser la caract\u00e8re hash `#` en d\u00e9but de ligne avec \u00e9ventuellement des espaces et/ou des tabulations le pr\u00e9c\u00e9dant. Le code suivant ne contenant aucune commande Python, il ne produira rien si on le lance."
     ]
    },
    {
     "cell_type": "code",
     "collapsed": false,
     "input": [
      "# Je suis un commentaire\n",
      "         # Moi aussi\n",
      "    # Moi de m\u00eame..."
     ],
     "language": "python",
     "metadata": {
      "slideshow": {
       "slide_type": "slide"
      }
     },
     "outputs": [],
     "prompt_number": 1
    },
    {
     "cell_type": "markdown",
     "metadata": {},
     "source": [
      "Les commentaires sont importants dans un code pour lever des ambigu\u00eft\u00e9s ou expliquer des petits points techniques. Faites attention \u00e0 ne pas les utiliser de fa\u00e7on excessive. Si vous commencez \u00e0 commenter beaucoup votre code, il faudra vous poser deux questions.\n",
      "\n",
      "1. Mon commentaire est \u00e0 but p\u00e9dagogique. Dans ce cas, pas de souci.\n",
      "\n",
      "1. Mon commentaire est indispensable pour comprendre ce que je fais. Dans ce cas, il faudra peut-\u00eatre s'interroger sur la fa\u00e7on dont le code a \u00e9t\u00e9 tap\u00e9, ou bien sur l'algorithme employ\u00e9."
     ]
    }
   ],
   "metadata": {}
  }
 ]
}