{
 "metadata": {
  "kernelspec": {
   "display_name": "Python 3",
   "language": "python",
   "name": "python3"
  },
  "language_info": {
   "codemirror_mode": {
    "name": "ipython",
    "version": 3
   },
   "file_extension": ".py",
   "mimetype": "text/x-python",
   "name": "python",
   "nbconvert_exporter": "python",
   "pygments_lexer": "ipython3",
   "version": "3.4.3"
  },
  "name": "",
  "signature": "sha256:f3de28610e1a1f147a5e11790f791d60d4832137b29d0051bab0fa09f3698db1"
 },
 "nbformat": 3,
 "nbformat_minor": 0,
 "worksheets": [
  {
   "cells": [
    {
     "cell_type": "markdown",
     "metadata": {},
     "source": [
      "Communiquer basiquement avec l'utilisateur\n",
      "==========================================\n",
      "\n",
      "Une fa\u00e7on \u00e9volu\u00e9e de communiquer est d'utiliser une interface graphique comme celle de IPython par exemple. Ceci demande pas mal de travail et n'est donc pas faisable quand on d\u00e9bute. On peut aussi simplement passer par l'invite de commande, ou terminal. C'est ce qui est pr\u00e9sent\u00e9 ici.\n",
      "\n",
      "\n",
      "Afficher du texte\n",
      "-----------------\n",
      "\n",
      "Pour afficher par exemple le texte \"Nous ne dirons pas bonjour au monde car il n'est pas l\u00e0 dans son ensemble.\" sans les guillemets, il suffit de faire comme suit o\u00f9 la fonction `print` propos\u00e9e par Python signifie \"imprimer\" (il faut se souvenir que les premiers ordinateurs disposaient juste d'une imprimante pour retourner des r\u00e9sultats)."
     ]
    },
    {
     "cell_type": "code",
     "collapsed": false,
     "input": [
      "print(\"Nous ne dirons pas bonjour au monde car il n'est pas compl\u00e8tement l\u00e0 aujourd'hui.\")"
     ],
     "language": "python",
     "metadata": {
      "slideshow": {
       "slide_type": "slide"
      }
     },
     "outputs": [
      {
       "output_type": "stream",
       "stream": "stdout",
       "text": [
        "Nous ne dirons pas bonjour au monde car il n'est pas compl\u00e8tement l\u00e0 aujourd'hui.\n"
       ]
      }
     ],
     "prompt_number": 1
    },
    {
     "cell_type": "markdown",
     "metadata": {},
     "source": [
      "R\u00e9cup\u00e9rer du texte demand\u00e9 \u00e0 l'utilisateur dans une invite de commandes ou un terminal\n",
      "--------------------------------------------------------------------------------------\n",
      "\n",
      "La fonction `input` sert \u00e0 poser une question \u00e0 l'utilisateur pour r\u00e9cup\u00e9rer une r\u00e9ponse de type texte."
     ]
    },
    {
     "cell_type": "code",
     "collapsed": false,
     "input": [
      "reponse = input(\"Taper un texte puis utilisez la touche [ENTREE]: \")\n",
      "\n",
      "print(\"Votre texte :\", reponse)"
     ],
     "language": "python",
     "metadata": {},
     "outputs": [
      {
       "output_type": "stream",
       "stream": "stdout",
       "text": [
        "Taper un texte puis utilisez la touche [ENTREE]: Je ne sais que \u00e9crire...\n",
        "Votre texte : Je ne sais que \u00e9crire...\n"
       ]
      }
     ],
     "prompt_number": 2
    }
   ],
   "metadata": {}
  }
 ]
}