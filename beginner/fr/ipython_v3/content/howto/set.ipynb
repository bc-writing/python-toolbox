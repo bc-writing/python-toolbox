{
 "metadata": {
  "kernelspec": {
   "display_name": "Python 3",
   "language": "python",
   "name": "python3"
  },
  "language_info": {
   "codemirror_mode": {
    "name": "ipython",
    "version": 3
   },
   "file_extension": ".py",
   "mimetype": "text/x-python",
   "name": "python",
   "nbconvert_exporter": "python",
   "pygments_lexer": "ipython3",
   "version": "3.4.3"
  },
  "name": "",
  "signature": "sha256:f6761b19e162bb415f6b8f6aa34d4877c0b9cc67fafe2b612afe9d8142277c2e"
 },
 "nbformat": 3,
 "nbformat_minor": 0,
 "worksheets": [
  {
   "cells": [
    {
     "cell_type": "markdown",
     "metadata": {},
     "source": [
      "Ensembles\n",
      "==========\n",
      "\n",
      "Des ensembles presque comme en math\u00e9matiques\n",
      "--------------------------------------------\n",
      "\n",
      "Un ensemble \u00e0 la sauce Python se comporte pratiquement comme un ensemble fini. Voyons pour commencer comment d\u00e9finir directement de tels ensembles. Notez au passage que les r\u00e9p\u00e9titions dans la liste disparaissent dans l'ensemble car un ensemble ne contient que des \u00e9l\u00e9ments \"uniques\". Sachez que les \u00e9l\u00e9ments d'un ensemble peuvent \u00eatre de n'importe quel type."
     ]
    },
    {
     "cell_type": "code",
     "collapsed": false,
     "input": [
      "ensemble_vide = set()\n",
      "print(\"ensemble_vide =\", ensemble_vide)\n",
      "print(\"Type de ensemble_vide :\", type(ensemble_vide))\n",
      "\n",
      "ensemble_via_une_liste  = set(['p', 'a', 'p', 'a', 'b', '\u00e9', 'b', '\u00e9', 'g', 'a', 'g', 'a'])\n",
      "print(\"ensemble_via_une_liste =\", ensemble_via_une_liste)\n",
      "print(\"Type de ensemble_via_une_liste :\", type(ensemble_via_une_liste))"
     ],
     "language": "python",
     "metadata": {},
     "outputs": [
      {
       "output_type": "stream",
       "stream": "stdout",
       "text": [
        "ensemble_vide = set()\n",
        "Type de ensemble_vide : <class 'set'>\n",
        "ensemble_via_une_liste = {'g', 'p', 'b', 'a', '\u00e9'}\n",
        "Type de ensemble_via_une_liste : <class 'set'>\n"
       ]
      }
     ],
     "prompt_number": 6
    },
    {
     "cell_type": "markdown",
     "metadata": {},
     "source": [
      "Ajouter un nouvel \u00e9l\u00e9ment \u00e0 un ensemble\n",
      "---------------------------------------\n",
      "\n",
      "Un ensemble est une instance de la classe `set` qui poss\u00e8de une m\u00e9thode `add` permettant d'ajouter un nouvel \u00e9l\u00e9ment. Voici comment utiliser cette derni\u00e8re."
     ]
    },
    {
     "cell_type": "code",
     "collapsed": false,
     "input": [
      "notre_ensemble = set()\n",
      "\n",
      "print(\"Un ensemble vide au d\u00e9part :\", notre_ensemble)\n",
      "\n",
      "notre_ensemble.add(\"nouvel \u00e9l\u00e9ment\")\n",
      "notre_ensemble.add(\"autre ajout\")\n",
      "\n",
      "# Ce qui suit ne doit rien modifier.\n",
      "notre_ensemble.add(\"nouvel \u00e9l\u00e9ment\")\n",
      "notre_ensemble.add(\"nouvel \u00e9l\u00e9ment\")\n",
      "notre_ensemble.add(\"nouvel \u00e9l\u00e9ment\")\n",
      "notre_ensemble.add(\"autre ajout\")\n",
      "notre_ensemble.add(\"autre ajout\")\n",
      "\n",
      "print(\"Ensemble rempli maintenant :\", notre_ensemble)"
     ],
     "language": "python",
     "metadata": {},
     "outputs": [
      {
       "output_type": "stream",
       "stream": "stdout",
       "text": [
        "Un ensemble vide au d\u00e9part : set()\n",
        "Ensemble rempli maintenant : {'autre ajout', 'nouvel \u00e9l\u00e9ment'}\n"
       ]
      }
     ],
     "prompt_number": 7
    },
    {
     "cell_type": "markdown",
     "metadata": {},
     "source": [
      "Cr\u00e9er un ensemble \u00e0 l'aide de boucles\n",
      "-------------------------------------\n",
      "\n",
      "La m\u00e9thode `add` vu juste avant peut \u00eatre utilis\u00e9e dans une boucle `for` pour construire un ensemble. Voici un exemple un peu math\u00e9matique mais pas trop. On construit l'ensemble des naturels obtenus en ne gardant que les deux derniers chiffres du carr\u00e9 d'un naturel. Par exemple, $11^2 = 121$ et $10^2 = 100$  donneront respectivement $21$ et $0$."
     ]
    },
    {
     "cell_type": "code",
     "collapsed": false,
     "input": [
      "# Code non optimal !\n",
      "ens_deux_derniers_chiffres = set()\n",
      "\n",
      "for i in range(10**6):\n",
      "    carre = i**2\n",
      "    deux_derniers_chiffres = carre%100\n",
      "    \n",
      "    ens_deux_derniers_chiffres.add(deux_derniers_chiffres)\n",
      "\n",
      "print(ens_deux_derniers_chiffres)"
     ],
     "language": "python",
     "metadata": {},
     "outputs": [
      {
       "output_type": "stream",
       "stream": "stdout",
       "text": [
        "{0, 1, 4, 9, 16, 21, 24, 25, 29, 36, 41, 44, 49, 56, 61, 64, 69, 76, 81, 84, 89, 96}\n"
       ]
      }
     ],
     "prompt_number": 8
    },
    {
     "cell_type": "markdown",
     "metadata": {},
     "source": [
      "R\u00e9union et intersection\n",
      "-----------------------\n",
      "\n",
      "L'int\u00e9r\u00eat du type `set` n'est pas juste d'\u00e9liminer les r\u00e9p\u00e9titions. Il permet notamment de faire des op\u00e9rations ensemblistes pr\u00e9sent\u00e9es ci-apr\u00e8s."
     ]
    },
    {
     "cell_type": "code",
     "collapsed": false,
     "input": [
      "ens_1 = set([\"a\", \"b\", \"c\", 1, 2, 3])\n",
      "ens_2 = set([\"a\", \"b\", 1, 10, 100])\n",
      "\n",
      "reunion = ens_1.union(ens_2)\n",
      "intersection = ens_1.intersection(ens_2)\n",
      "\n",
      "print(\"reunion =\", reunion)\n",
      "print(\"intersection =\", intersection)"
     ],
     "language": "python",
     "metadata": {},
     "outputs": [
      {
       "output_type": "stream",
       "stream": "stdout",
       "text": [
        "reunion = {1, 2, 3, 100, 'b', 'a', 10, 'c'}\n",
        "intersection = {1, 'b', 'a'}\n"
       ]
      }
     ],
     "prompt_number": 9
    },
    {
     "cell_type": "markdown",
     "metadata": {},
     "source": [
      "A la place des m\u00e9thodes `union` et `intersection`, vous pouvez utiliser les op\u00e9rateurs sp\u00e9ciaux `|` et `&` comme suit."
     ]
    },
    {
     "cell_type": "code",
     "collapsed": false,
     "input": [
      "ens_1 = set([\"a\", \"b\", \"c\", 1, 2, 3])\n",
      "ens_2 = set([\"a\", \"b\", 1, 10, 100])\n",
      "\n",
      "reunion = ens_1 | ens_2\n",
      "intersection = ens_1 & ens_2\n",
      "\n",
      "print(\"reunion =\", reunion)\n",
      "print(\"intersection =\", intersection)"
     ],
     "language": "python",
     "metadata": {},
     "outputs": [
      {
       "output_type": "stream",
       "stream": "stdout",
       "text": [
        "reunion = {1, 2, 3, 100, 'b', 'a', 10, 'c'}\n",
        "intersection = {1, 'b', 'a'}\n"
       ]
      }
     ],
     "prompt_number": 10
    },
    {
     "cell_type": "markdown",
     "metadata": {},
     "source": [
      "Soustraire d'un ensemble les \u00e9l\u00e9ments d'un autre\n",
      "------------------------------------------------\n",
      "\n",
      "La m\u00e9thode \u00e0 employer est donn\u00e9e dans le titre comme le montre le code suivant."
     ]
    },
    {
     "cell_type": "code",
     "collapsed": false,
     "input": [
      "ens_1 = set([\"a\", \"b\", \"c\", 1, 2, 3])\n",
      "ens_2 = set([\"a\", \"b\", 1, 10, 100])\n",
      "\n",
      "diff_1_moins_2 = ens_1 - ens_2\n",
      "diff_2_moins_1 = ens_2 - ens_1\n",
      "\n",
      "print(\"diff_1_moins_2 =\", diff_1_moins_2)\n",
      "print(\"diff_2_moins_1 =\", diff_2_moins_1)"
     ],
     "language": "python",
     "metadata": {},
     "outputs": [
      {
       "output_type": "stream",
       "stream": "stdout",
       "text": [
        "diff_1_moins_2 = {2, 3, 'c'}\n",
        "diff_2_moins_1 = {10, 100}\n"
       ]
      }
     ],
     "prompt_number": 11
    },
    {
     "cell_type": "markdown",
     "metadata": {},
     "source": [
      "Copier un ensemble, attention danger !\n",
      "--------------------------------------\n",
      "\n",
      "Tout comme avec les listes, Python \u00e9vite autant que possible de copier des ensembles. Ceci permet de comprendre le r\u00e9sulat ci-dessous o\u00f9 les variables `ensemble_ancien` et `ensemble_nouveau` pointent vers le m\u00eame emplacement m\u00e9moire."
     ]
    },
    {
     "cell_type": "code",
     "collapsed": false,
     "input": [
      "ensemble_ancien  = set([1, 2, 3])\n",
      "ensemble_nouveau = ensemble_ancien\n",
      "\n",
      "ensemble_nouveau.add(4)\n",
      "ensemble_nouveau.add(5)\n",
      "\n",
      "print(\"ensemble_ancien  =\", ensemble_ancien)\n",
      "print(\"ensemble_nouveau =\", ensemble_nouveau)"
     ],
     "language": "python",
     "metadata": {},
     "outputs": [
      {
       "output_type": "stream",
       "stream": "stdout",
       "text": [
        "ensemble_ancien  = {1, 2, 3, 4, 5}\n",
        "ensemble_nouveau = {1, 2, 3, 4, 5}\n"
       ]
      }
     ],
     "prompt_number": 12
    },
    {
     "cell_type": "markdown",
     "metadata": {},
     "source": [
      "Pour copier un ensemble pour avoir deux versions diff\u00e9rentes en m\u00e9moire, il suffit de faire appel au module sp\u00e9cialis\u00e9 `copy`."
     ]
    },
    {
     "cell_type": "code",
     "collapsed": false,
     "input": [
      "from copy import deepcopy\n",
      "\n",
      "ensemble_ancien  = set([1, 2, 3])\n",
      "ensemble_nouveau = deepcopy(ensemble_ancien)\n",
      "\n",
      "ensemble_nouveau.add(4)\n",
      "ensemble_nouveau.add(5)\n",
      "\n",
      "print(\"ensemble_ancien  =\", ensemble_ancien)\n",
      "print(\"ensemble_nouveau =\", ensemble_nouveau)"
     ],
     "language": "python",
     "metadata": {},
     "outputs": [
      {
       "output_type": "stream",
       "stream": "stdout",
       "text": [
        "ensemble_ancien  = {1, 2, 3}\n",
        "ensemble_nouveau = {1, 2, 3, 4, 5}\n"
       ]
      }
     ],
     "prompt_number": 13
    }
   ],
   "metadata": {}
  }
 ]
}