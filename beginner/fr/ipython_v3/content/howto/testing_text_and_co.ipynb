{
 "metadata": {
  "kernelspec": {
   "display_name": "Python 3",
   "language": "python",
   "name": "python3"
  },
  "language_info": {
   "codemirror_mode": {
    "name": "ipython",
    "version": 3
   },
   "file_extension": ".py",
   "mimetype": "text/x-python",
   "name": "python",
   "nbconvert_exporter": "python",
   "pygments_lexer": "ipython3",
   "version": "3.4.3"
  },
  "name": "",
  "signature": "sha256:11450047a471021fba9a53185781c33429e256c62bbc0adf8be96854f54472b0"
 },
 "nbformat": 3,
 "nbformat_minor": 0,
 "worksheets": [
  {
   "cells": [
    {
     "cell_type": "markdown",
     "metadata": {},
     "source": [
      "Tests li\u00e9s aux textes, aux listes, aux ensembles et aux dictionnaires\n",
      "=====================================================================\n",
      "\n",
      "Cas des textes\n",
      "--------------\n",
      "\n",
      "Pour tester la pr\u00e9sence d'un texte dans un autre, on proc\u00e8de comme suit o\u00f9 le mot \"in\" signifie \"dans\" en anglais. Dans ce type de test, les majuscules et les minuscules sont concis\u00e9d\u00e9r\u00e9es comme diff\u00e9rentes !"
     ]
    },
    {
     "cell_type": "code",
     "collapsed": false,
     "input": [
      "var_texte = \"Testons un peu le cas d'un texte.\"\n",
      "\n",
      "print('var_texte a pour contenu :')\n",
      "print(var_texte)\n",
      "\n",
      "a_dans_texte = \"a\" in var_texte   # a_dans_texte est de type bool\u00e9en.\n",
      "z_dans_texte = \"z\" in var_texte\n",
      "\n",
      "print(\"\")\n",
      "print('Le texte \"a\" appara\u00eet-il dans le contenu de var_texte ?', a_dans_texte)\n",
      "print('Le texte \"z\" appara\u00eet-il dans le contenu de var_texte ?', z_dans_texte)\n",
      "\n",
      "cas_dans_texte  = \"cas\" in var_texte  \n",
      "test_dans_texte = \"test\" in var_texte\n",
      "Test_dans_texte = \"Test\" in var_texte\n",
      "\n",
      "print(\"\")\n",
      "print('Le texte \"cas\" appara\u00eet-il dans le contenu de var_texte ? ', cas_dans_texte)\n",
      "print('Le texte \"test\" appara\u00eet-il dans le contenu de var_texte ?', test_dans_texte)\n",
      "print('Le texte \"Test\" appara\u00eet-il dans le contenu de var_texte ?', Test_dans_texte)"
     ],
     "language": "python",
     "metadata": {},
     "outputs": [
      {
       "output_type": "stream",
       "stream": "stdout",
       "text": [
        "var_texte a pour contenu :\n",
        "Testons un peu le cas d'un texte.\n",
        "\n",
        "Le texte \"a\" appara\u00eet-il dans le contenu de var_texte ? True\n",
        "Le texte \"z\" appara\u00eet-il dans le contenu de var_texte ? False\n",
        "\n",
        "Le texte \"cas\" appara\u00eet-il dans le contenu de var_texte ?  True\n",
        "Le texte \"test\" appara\u00eet-il dans le contenu de var_texte ? False\n",
        "Le texte \"Test\" appara\u00eet-il dans le contenu de var_texte ? True\n"
       ]
      }
     ],
     "prompt_number": 3
    },
    {
     "cell_type": "markdown",
     "metadata": {},
     "source": [
      "Cas des listes\n",
      "--------------\n",
      "\n",
      "Ce qui suit est simple \u00e0 comprendre car tr\u00e8s similaire \u00e0 ce qui a \u00e9t\u00e9 propos\u00e9 pour les cha\u00eenes de caract\u00e8res."
     ]
    },
    {
     "cell_type": "code",
     "collapsed": false,
     "input": [
      "premiers = [2, 3, 5, 7, 11, 13]\n",
      "\n",
      "texte_deux_dans_premiers      = \"2\" in premiers\n",
      "entier_deux_dans_premiers     = 2 in premiers\n",
      "entier_dix_sept_dans_premiers = 17 in premiers\n",
      "\n",
      "print('Le texte \"2\" est-il dans la liste ?', texte_deux_dans_premiers)\n",
      "print(\"L'entier 2 est-il dans la liste ?  \", entier_deux_dans_premiers)\n",
      "print(\"L'entier 17 est-il dans la liste ? \", entier_dix_sept_dans_premiers)"
     ],
     "language": "python",
     "metadata": {},
     "outputs": [
      {
       "output_type": "stream",
       "stream": "stdout",
       "text": [
        "Le texte \"2\" est-il dans la liste ? False\n",
        "L'entier 2 est-il dans la liste ?   True\n",
        "L'entier 17 est-il dans la liste ?  False\n"
       ]
      }
     ],
     "prompt_number": 25
    },
    {
     "cell_type": "markdown",
     "metadata": {},
     "source": [
      "Cas des ensembles\n",
      "-----------------\n",
      "\n",
      "Pour commencer, rien de nouveau par rapport aux sections pr\u00e9c\u00e9dentes."
     ]
    },
    {
     "cell_type": "code",
     "collapsed": false,
     "input": [
      "premiers = set([2, 3, 5, 7, 11, 13])\n",
      "\n",
      "texte_deux_dans_premiers      = \"2\" in premiers\n",
      "entier_deux_dans_premiers     = 2 in premiers\n",
      "entier_dix_sept_dans_premiers = 17 in premiers\n",
      "\n",
      "# Norez au passage l'utilisation de \\' \u00e0 l'int\u00e9rieur de\n",
      "# '...' pour pouvoir utiliser le caract\u00e8re '.\n",
      "print('Le texte \"2\" est-il dans l\\'ensemble ?', texte_deux_dans_premiers)\n",
      "print(\"L'entier 2 est-il dans l'ensemble ?  \", entier_deux_dans_premiers)\n",
      "print(\"L'entier 17 est-il dans l'ensemble ? \", entier_dix_sept_dans_premiers)"
     ],
     "language": "python",
     "metadata": {},
     "outputs": [
      {
       "output_type": "stream",
       "stream": "stdout",
       "text": [
        "Le texte \"2\" est-il dans l'ensemble ? False\n",
        "L'entier 2 est-il dans l'ensemble ?   True\n",
        "L'entier 17 est-il dans l'ensemble ?  False\n"
       ]
      }
     ],
     "prompt_number": 26
    },
    {
     "cell_type": "markdown",
     "metadata": {},
     "source": [
      "On peut aussi comparer des ensembles entre eux.\n",
      "Ci-dessous, nous avons juste montr\u00e9 l'emploi de `... <= ...` pour \"est inclus dans ou \u00e9gal \u00e0\".\n",
      "Il est bien entendu aussi possible d'utiliser `... < ...` pour tester une inclusion stricte, ainsi que les \u00e9critures sym\u00e9triques `... >= ...` et `... > ...` ."
     ]
    },
    {
     "cell_type": "code",
     "collapsed": false,
     "input": [
      "ens_1 = set([1, 2, 3, 4])\n",
      "ens_2 = set([2, 4])\n",
      "ens_3 = set([1, 2, 7])\n",
      "\n",
      "ens_1_inclus_dans_ens_1 = ens_1 <= ens_1\n",
      "ens_2_inclus_dans_ens_1 = ens_2 <= ens_1\n",
      "ens_3_inclus_dans_ens_1 = ens_3 <= ens_1\n",
      "\n",
      "print(\"L'ensemble ens_1 est-il inclus dans l'ensemble ens_1 ?\", ens_1_inclus_dans_ens_1)\n",
      "print(\"L'ensemble ens_2 est-il inclus dans l'ensemble ens_1 ?\", ens_2_inclus_dans_ens_1)\n",
      "print(\"L'ensemble ens_3 est-il inclus dans l'ensemble ens_1 ?\", ens_3_inclus_dans_ens_1)"
     ],
     "language": "python",
     "metadata": {},
     "outputs": [
      {
       "output_type": "stream",
       "stream": "stdout",
       "text": [
        "L'ensemble ens_1 est-il inclus dans l'ensemble ens_1 ? True\n",
        "L'ensemble ens_2 est-il inclus dans l'ensemble ens_1 ? True\n",
        "L'ensemble ens_3 est-il inclus dans l'ensemble ens_1 ? False\n"
       ]
      }
     ],
     "prompt_number": 27
    },
    {
     "cell_type": "markdown",
     "metadata": {},
     "source": [
      "Cas des dictionnaires\n",
      "---------------------\n",
      "\n",
      "Avec les dictionnaires, on peut tester s'ils \"contiennent\" une cl\u00e9 donn\u00e9e."
     ]
    },
    {
     "cell_type": "code",
     "collapsed": false,
     "input": [
      "dico = {\"inspiration\": 0, \"automatisme\": 10**80}\n",
      "\n",
      "cle_inspiration_dans_dico = \"inspiration\" in dico\n",
      "cle_erreur_dans_dico      = \"erreur\" in dico\n",
      "\n",
      "print('dico contient-il la cl\u00e9 \"inspiration\" ?', cle_inspiration_dans_dico)\n",
      "print('dico contient-il la cl\u00e9 \"erreur\" ?     ', cle_erreur_dans_dico)"
     ],
     "language": "python",
     "metadata": {},
     "outputs": [
      {
       "output_type": "stream",
       "stream": "stdout",
       "text": [
        "dico contient-il la cl\u00e9 \"inspiration\" ? True\n",
        "dico contient-il la cl\u00e9 \"erreur\" ?      False\n"
       ]
      }
     ],
     "prompt_number": 28
    }
   ],
   "metadata": {}
  }
 ]
}