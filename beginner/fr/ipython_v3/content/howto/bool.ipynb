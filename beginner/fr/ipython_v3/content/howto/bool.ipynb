{
 "metadata": {
  "kernelspec": {
   "display_name": "Python 3",
   "language": "python",
   "name": "python3"
  },
  "language_info": {
   "codemirror_mode": {
    "name": "ipython",
    "version": 3
   },
   "file_extension": ".py",
   "mimetype": "text/x-python",
   "name": "python",
   "nbconvert_exporter": "python",
   "pygments_lexer": "ipython3",
   "version": "3.4.3"
  },
  "name": "",
  "signature": "sha256:837afb5509ee6fff4702f4f5fc54f461ad2f83cdfe61858b2ce2ea50ee1fa9f3"
 },
 "nbformat": 3,
 "nbformat_minor": 0,
 "worksheets": [
  {
   "cells": [
    {
     "cell_type": "markdown",
     "metadata": {},
     "source": [
      "Les bool\u00e9ens `VRAI` et `FAUX`\n",
      "=============================\n",
      "\n",
      "Un peu de vocabulaire bool\u00e9en\n",
      "-----------------------------\n",
      "\n",
      "George Boole a v\u00e9cu du 2 novembre 1815 au 8 d\u00e9cembre 1864. Il a invent\u00e9 ce que l'on appelle aujourd'hui l'alg\u00e8bre de Boole car il cherchait traduire les raisonnements logiques en calculs alg\u00e9briques. Indiquons au passage qu'il existe plusieurs types de logique. Celle mod\u00e9lis\u00e9e par l'ag\u00e8bre de Boole s'appuie sur deux valeurs de v\u00e9rit\u00e9 `VRAI` et `FAUX` utilisables avec des op\u00e9rateurs logiques `ET` , `OU` et `NON`. Commen\u00e7ons par voir comment distinguer le `VRAI` du `FAUX`."
     ]
    },
    {
     "cell_type": "code",
     "collapsed": false,
     "input": [
      "variable_symbolisant_vrai = True\n",
      "variable_symbolisant_faux = False\n",
      "\n",
      "print(\"Type de variable_symbolisant_vrai :\", type(variable_symbolisant_vrai))\n",
      "print(\"Type de variable_symbolisant_faux :\", type(variable_symbolisant_faux))"
     ],
     "language": "python",
     "metadata": {},
     "outputs": [
      {
       "output_type": "stream",
       "stream": "stdout",
       "text": [
        "Type de variable_symbolisant_vrai : <class 'bool'>\n",
        "Type de variable_symbolisant_faux : <class 'bool'>\n"
       ]
      }
     ],
     "prompt_number": 2
    },
    {
     "cell_type": "markdown",
     "metadata": {},
     "source": [
      "Les op\u00e9rateurs bool\u00e9ens\n",
      "-----------------------\n",
      "\n",
      "Il suffit de savoir que \"et\", \"ou\" et \"non\" se disent respectivement \"and\", \"or\" et \"not\" en anglais pour comprendre les lignes de code suivantes."
     ]
    },
    {
     "cell_type": "code",
     "collapsed": false,
     "input": [
      "# L'op\u00e9rateur bool\u00e9en ET renvoie VRAI uniquement si  \n",
      "# les deux valeurs bol\u00e9ennes valent VRAI, sinon il\n",
      "# renvoie FAUX.\n",
      "print(\"`and` en action...\")\n",
      "print(\"    True and True   =\", True and True)\n",
      "print(\"    True and False  =\", True and False)\n",
      "print(\"    False and True  =\", False and True)\n",
      "print(\"    False and False =\", False and False)\n",
      "\n",
      "# L'op\u00e9rateur bool\u00e9en OU renvoie VRAI uniquement si  \n",
      "# l'une au moins des deux valeurs bol\u00e9ennes est VRAI,\n",
      "# sinon il renvoie FAUX.\n",
      "print(\"\")\n",
      "print(\"`or` en action...\")\n",
      "print(\"    True or True   =\", True or True)\n",
      "print(\"    True or False  =\", True or False)\n",
      "print(\"    False or True  =\", False or True)\n",
      "print(\"    False or False =\", False or False)\n",
      "\n",
      "# L'op\u00e9rateur bool\u00e9en NON renvoie une valeur bool\u00e9enne\n",
      "# \"contraire\".\n",
      "print(\"\")\n",
      "print(\"`not` en action...\")\n",
      "print(\"    not True  =\", not True)\n",
      "print(\"    not False =\", not False)"
     ],
     "language": "python",
     "metadata": {},
     "outputs": [
      {
       "output_type": "stream",
       "stream": "stdout",
       "text": [
        "`and` en action...\n",
        "    True and True   = True\n",
        "    True and False  = False\n",
        "    False and True  = False\n",
        "    False and False = False\n",
        "\n",
        "`or` en action...\n",
        "    True or True   = True\n",
        "    True or False  = True\n",
        "    False or True  = True\n",
        "    False or False = False\n",
        "\n",
        "`not` en action...\n",
        "    not True  = False\n",
        "    not False = True\n"
       ]
      }
     ],
     "prompt_number": 3
    },
    {
     "cell_type": "markdown",
     "metadata": {},
     "source": [
      "Attention danger ! Calculer avec des bool\u00e9ens, c'est possible. \n",
      "--------------------------------------------------------------\n",
      "\n",
      "Le code ci-dessous montre une bizarrerie. Ceci peut se comprendre si l'on sait qu'\u00e0 l'origine Python avait \u00e9t\u00e9 construit \"au-dessus\" du langage C qui lui ne dispose pas de type bool\u00e9en. Du coup dans le langage C on utilise les entiers `1` et `0` pour symboliser les valeurs de v\u00e9rit\u00e9 `VRAI` et `FAUX` respectivement. Avec ceci en t\u00eate, on peut comprendre l'apparition du `3` ci-dessous."
     ]
    },
    {
     "cell_type": "code",
     "collapsed": false,
     "input": [
      "bizzar = 2 + True\n",
      "\n",
      "print(bizzar)"
     ],
     "language": "python",
     "metadata": {},
     "outputs": [
      {
       "output_type": "stream",
       "stream": "stdout",
       "text": [
        "3\n"
       ]
      }
     ],
     "prompt_number": 4
    }
   ],
   "metadata": {}
  }
 ]
}