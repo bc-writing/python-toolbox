{
 "metadata": {
  "kernelspec": {
   "display_name": "Python 3",
   "language": "python",
   "name": "python3"
  },
  "language_info": {
   "codemirror_mode": {
    "name": "ipython",
    "version": 3
   },
   "file_extension": ".py",
   "mimetype": "text/x-python",
   "name": "python",
   "nbconvert_exporter": "python",
   "pygments_lexer": "ipython3",
   "version": "3.4.3"
  },
  "name": "",
  "signature": "sha256:59acae461a3e86d8891ebdf9de49f42f918dc17c1798536daeb2e96bdbe1161c"
 },
 "nbformat": 3,
 "nbformat_minor": 0,
 "worksheets": [
  {
   "cells": [
    {
     "cell_type": "markdown",
     "metadata": {},
     "source": [
      "Utilisez des algorithmes !\n",
      "==========================\n",
      "\n",
      "M\u00eame si ceci peut se faire uniquement mentalement, programmer demande une grande organisation. Un outil tr\u00e8s utile est la notion d'algorithme. Par exemple, je souhaite afficher trois nombres r\u00e9els connus `a`, `b` et `c` du plus petit au plus grand. Je peux opter pour la tactique suivante \u00e9crite sous forme d'un algorithme utilisant un langage naturel o\u00f9 les lignes commen\u00e7ant par le symbole sharp `#` sont des commentaires *(la tactique propos\u00e9e n'est pas optimale mais peu importe)*."
     ]
    },
    {
     "cell_type": "raw",
     "metadata": {},
     "source": [
      "# On se d\u00e9brouille pour avoir b <= c.\n",
      "Si c < b alors \u00e9changer les valeurs de b et c.\n",
      "\n",
      "# On est certain que b <= c \u00e0 ce stade. Il reste\n",
      "# juste \u00e0 mettre le r\u00e9el a au bon endroit.\n",
      "\n",
      "# Cas 1: a < b . On n'a rien \u00e0 faire.\n",
      "\n",
      "# Cas 2: b <= a <= c\n",
      "Si b <= a <= c alors \u00e9changer les valeurs de a et b.\n",
      "\n",
      "# Cas 3: a > c\n",
      "Si a > c, autrement dit b <= c < a, alors proc\u00e9der\n",
      "comme suit.\n",
      "    + a prend l'ancienne valeur de b.\n",
      "    + b prend l'ancienne valeur de c.\n",
      "    + c prend l'ancienne valeur de a.\n",
      "\n",
      "# Fin du travail\n",
      "Afficher a, b et c dans cet ordre."
     ]
    },
    {
     "cell_type": "markdown",
     "metadata": {},
     "source": [
      "Ceci se traduit assez directement en Python comme suit \u00e0 condition de disposer d'un \"dictionnaire\" permettant une traduction dans le langage Python. Les sections suivantes vous aideront \u00e0 faire vos propres traductions."
     ]
    },
    {
     "cell_type": "code",
     "collapsed": false,
     "input": [
      "# Donnons directement des valeurs dans le code.\n",
      "a = 2\n",
      "b = 1\n",
      "c = 3\n",
      "\n",
      "# On se d\u00e9brouille pour avoir b <= c.\n",
      "if c < b:\n",
      "    b, c = c, b\n",
      "\n",
      "# On est certain que b <= c \u00e0 ce stade. Il reste\n",
      "# juste \u00e0 mettre le r\u00e9el a au bon endroit.\n",
      "\n",
      "# Cas 1: a <= b . On n'a rien \u00e0 faire.\n",
      "\n",
      "# Cas 2: b <= a <= c\n",
      "if b <= a <= c:\n",
      "    a, b = b, a\n",
      "\n",
      "# Cas 3: a > c\n",
      "if a > c:\n",
      "    a, b, c = b, c, a\n",
      "\n",
      "# Fin du travail\n",
      "print(a, \"<=\", b, \"<=\", c)"
     ],
     "language": "python",
     "metadata": {},
     "outputs": [
      {
       "output_type": "stream",
       "stream": "stdout",
       "text": [
        "1 <= 2 <= 3\n"
       ]
      }
     ],
     "prompt_number": 2
    },
    {
     "cell_type": "markdown",
     "metadata": {},
     "source": [
      "**Important !** Il ne faut jamais n\u00e9gliger la phase de r\u00e9flexion avant de programmer. Ce ne sera jamais une perte de temps que d'organiser ses pens\u00e9es avant de taper des lignes de code. "
     ]
    }
   ],
   "metadata": {}
  }
 ]
}