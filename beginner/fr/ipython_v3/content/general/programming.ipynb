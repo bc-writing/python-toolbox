{
 "metadata": {
  "kernelspec": {
   "display_name": "Python 3",
   "language": "python",
   "name": "python3"
  },
  "language_info": {
   "codemirror_mode": {
    "name": "ipython",
    "version": 3
   },
   "file_extension": ".py",
   "mimetype": "text/x-python",
   "name": "python",
   "nbconvert_exporter": "python",
   "pygments_lexer": "ipython3",
   "version": "3.4.3"
  },
  "name": "",
  "signature": "sha256:fd63f731ba856a35a183deb07b1716c825315f94626d01f348077455c2fdfd98"
 },
 "nbformat": 3,
 "nbformat_minor": 0,
 "worksheets": [
  {
   "cells": [
    {
     "cell_type": "markdown",
     "metadata": {},
     "source": [
      "Programmer, c'est quoi ?\n",
      "========================\n",
      "\n",
      "La programmation sert \u00e0 r\u00e9soudre des probl\u00e8mes utiles ou non, concrets ou asbtraits, en s'appuyant sur un langage plus ou moins simple qui fera appel aux capacit\u00e9s de calcul d'un ordinateur tel qu'un ordinateur portable, un smartphone ou aussi par exemple aux fonctionnalit\u00e9s d'un Raspberry. Suivant les probl\u00e8mes \u00e0 r\u00e9soudre, on pourra s'orienter vers diff\u00e9rents langages. Voici des exemples possibles d'utilisation.\n",
      "\n",
      "1. Vous souhaitez g\u00e9rer au mieux la m\u00e9moire pour de l'\u00e9lectronique embarqu\u00e9e, un langage comme le C devrait vous rendre de grand service.\n",
      "\n",
      "1. Votre probl\u00e8me \u00e0 r\u00e9soudre n'utilise pas de grosses donn\u00e9es volumineuses, ou bien vous n'avez pas de restriction quant \u00e0 l'utilisation de biblioth\u00e8ques tierces programm\u00e9es par d'autres, Python pourrait vous rendre tr\u00e8s productif.\n",
      "\n",
      "1. Envie de mettre en page des rapports de fa\u00e7on automatis\u00e9e, int\u00e9ressez vous au langage HTML, ou bien \u00e0 LaTeX.\n",
      "\n",
      "1. Vous devez partir \u00e0 l'assaut de donn\u00e9es structur\u00e9es ou non, dans ce cas, les langages de type SQL ou ceux de la famille des NoSQL seront l\u00e0 pour vous servir.\n",
      "\n",
      "1. ... etc.\n",
      "\n",
      "Dans les exemples pr\u00e9c\u00e9dents, les langages HTML, SQL et NoSQL ont ceci de notables qu'ils ne permettent pas de faire des calculs comme par exemple le calcul du PGCD de deux naturels. Tous les autres le peuvent !"
     ]
    }
   ],
   "metadata": {}
  }
 ]
}