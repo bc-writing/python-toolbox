{
 "metadata": {
  "kernelspec": {
   "display_name": "Python 3",
   "language": "python",
   "name": "python3"
  },
  "language_info": {
   "codemirror_mode": {
    "name": "ipython",
    "version": 3
   },
   "file_extension": ".py",
   "mimetype": "text/x-python",
   "name": "python",
   "nbconvert_exporter": "python",
   "pygments_lexer": "ipython3",
   "version": "3.4.3"
  },
  "name": "",
  "signature": "sha256:8b3c81627e65e4ca7245dea0adc090c0678d460a1e74279d4759a140c60eecde"
 },
 "nbformat": 3,
 "nbformat_minor": 0,
 "worksheets": [
  {
   "cells": [
    {
     "cell_type": "markdown",
     "metadata": {
      "collapsed": true
     },
     "source": [
      "Le choix de Python\n",
      "==================\n",
      "\n",
      "Voici des avantages qui peuvent justifier le choix de Python comme langage de programmation.\n",
      "\n",
      "1. Le nombre de mots cl\u00e9s de base du langage est limit\u00e9 et la syntaxe tr\u00e8s \u00e9conome. Les instructions se r\u00e9digent dans un langage proche du n\u00f4tre.\n",
      "\n",
      "1. La structuration visuelle du code fait partie des r\u00e9gles de r\u00e9daction d'un code *(ceci am\u00e9liore la lisibilit\u00e9)*.\n",
      "\n",
      "1. On peut utiliser des codes Python sous Linux, Mac OS et Windows sans avoir \u00e0 utiliser un processus \"complexe\" de compilation. Par contre, ceci demande d'installer initialement un interpr\u00e9teur, mais cette installation reste simple \u00e0 faire.\n",
      "\n",
      "1. Les variables utilis\u00e9es n'ont pas besoin d'\u00eatre typ\u00e9es par le programmeur. C'est un peu comme en math\u00e9matique quand dans un m\u00eame devoir la lettre $F$ peut dans un exercice indiquer un point, puis dans un autre une primitive.\n",
      "\n",
      "1. Python se charge des probl\u00e8mes de gestion de la m\u00e9moire en lib\u00e9rant tout ce qui n'est plus utile *(ceci implique que l'on peut faire des choses tr\u00e8s lentes si l'on utilise mal Python mais ceci ne veut pas dire qu'au contraire on ne puisse pas faire des choses tr\u00e8s rapidement)*.\n",
      "\n",
      "1. Un nombre important de biblioth\u00e8ques permettent de palier aux manques intrins\u00e8ques de rapidit\u00e9 du langage Python *(l'usage de ces bibioth\u00e8ques n'emp\u00eachent pas d'avoir \u00e0 r\u00e9fl\u00e9chir pour \u00e9laborer des codes)*.\n",
      "\n",
      "1. On a le choix de la technique de programmation. Si l'on veut faire de la programmation orient\u00e9e objet, pas de souci. Si l'on veut n'utiliser que des fonctions pour faire de la programmation it\u00e9rative \u00e0 la sauce C, c'est aussi possible. On peut m\u00eame m\u00e9langer les deux types d'approche. Il est aussi possible d'adapter \u00e0 Python certaines techniques de programmation propres aux langages dits fonctionnels comme OCaml."
     ]
    }
   ],
   "metadata": {}
  }
 ]
}