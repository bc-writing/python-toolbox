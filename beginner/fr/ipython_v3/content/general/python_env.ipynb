{
 "metadata": {
  "kernelspec": {
   "display_name": "Python 3",
   "language": "python",
   "name": "python3"
  },
  "language_info": {
   "codemirror_mode": {
    "name": "ipython",
    "version": 3
   },
   "file_extension": ".py",
   "mimetype": "text/x-python",
   "name": "python",
   "nbconvert_exporter": "python",
   "pygments_lexer": "ipython3",
   "version": "3.4.3"
  },
  "name": "",
  "signature": "sha256:83a815fa3dd85c1a2a4a24692417cd86746a669cdbb5059e1ae5ce92050a0938"
 },
 "nbformat": 3,
 "nbformat_minor": 0,
 "worksheets": [
  {
   "cells": [
    {
     "cell_type": "markdown",
     "metadata": {},
     "source": [
      "Installer Python 3\n",
      "==================\n",
      "\n",
      "Pyzo\n",
      "----\n",
      "\n",
      "Les contraintes mat\u00e9rielles li\u00e9es aux r\u00e9seaux dans les lyc\u00e9es fran\u00e7ais font que l'usage de [Pyzo](http://www.pyzo.org/) semble le choix le plus simple *(Anaconda aurait \u00e9t\u00e9 un choix int\u00e9ressant pour des ordinateurs Linux en r\u00e9seau)*.\n",
      "Pyzo propose un environnement capable d'interpr\u00e9ter les programmes \u00e9crits en Python en utilisant \u00e9ventuellement un ensemble de biblioth\u00e8ques int\u00e9ressantes propos\u00e9es par d\u00e9faut.\n",
      "Pyzo s'accompagne de IEP un \u00e9diteur de codes tr\u00e8s correct, et aussi de IPython qui permet de r\u00e9diger efficacement des documents \"interactifs\" contenant des codes Python."
     ]
    },
    {
     "cell_type": "markdown",
     "metadata": {},
     "source": [
      "IPython\n",
      "-------\n",
      "\n",
      "Dans sa version IPython via un navigateur, le document que vous lisez permet de proposer des documents contenant des codes modifiables comme dans l'exemple suivant."
     ]
    },
    {
     "cell_type": "code",
     "collapsed": false,
     "input": [
      "# Quand IPython est lanc\u00e9 en tant qu'application web locale dans\n",
      "# un navigateur web pour ouvrir ce document, il est alors possible\n",
      "# de changer ci-dessous les lignes de codes.\n",
      "#\n",
      "# Par exemple, il est alors possible de changer le texte entre les\n",
      "# guillemets, puis en cliquant sur le triangle \"Play\" en haut de\n",
      "# la page, ou bien en utilisant le raccourci clavier CTRL + ENTREE,\n",
      "# on peut constater l'effet des modifications apport\u00e9es.\n",
      "mon_nom = \"Personne\"\n",
      "\n",
      "print(\"Mon nom :\", mon_nom)"
     ],
     "language": "python",
     "metadata": {},
     "outputs": [
      {
       "output_type": "stream",
       "stream": "stdout",
       "text": [
        "Mon nom : Personne\n"
       ]
      }
     ],
     "prompt_number": 1
    }
   ],
   "metadata": {}
  }
 ]
}