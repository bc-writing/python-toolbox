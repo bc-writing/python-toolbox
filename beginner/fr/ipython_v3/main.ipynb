{
 "metadata": {
  "kernelspec": {
   "display_name": "Python 3",
   "language": "python",
   "name": "python3"
  },
  "language_info": {
   "codemirror_mode": {
    "name": "ipython",
    "version": 3
   },
   "file_extension": ".py",
   "mimetype": "text/x-python",
   "name": "python",
   "nbconvert_exporter": "python",
   "pygments_lexer": "ipython3",
   "version": "3.4.3"
  },
  "name": "",
  "signature": "sha256:051178594c768998c2872b053c9e9aeb4854112faf0b15d4889f12127cd2f99f"
 },
 "nbformat": 3,
 "nbformat_minor": 0,
 "worksheets": [
  {
   "cells": [
    {
     "cell_type": "markdown",
     "metadata": {},
     "source": [
      "Bo\u00eete \u00e0 outils - Premiers pas avec Python 3 \n",
      "===========================================\n",
      "\n",
      "> **Version du 2015-10-18**\n",
      "\n",
      "Ce document sans pr\u00e9tention propose de r\u00e9unir un ensemble de techniques de base sous une forme facile d'utilisation.\n",
      "Le but ici n'est pas d'explorer en d\u00e9tail les diff\u00e9rents th\u00e8mes propos\u00e9s mais au contraire de proposer un ensemble d'outils suffisants et utiles quand on d\u00e9bute.\n",
      "Ceci \u00e9vitera aux d\u00e9butants de se noyer dans des concepts un peu trop avanc\u00e9s.\n",
      "Toute remarque constructive est bienvenue pour faire \u00e9voluer ***ce document non d\u00e9finitif***."
     ]
    },
    {
     "cell_type": "markdown",
     "metadata": {},
     "source": [
      "Licence\n",
      "-------\n",
      "\n",
      "Ce document est mis \u00e0 disposition selon les termes de la licence Creative Commons\n",
      "\u00ab Attribution - Pas d\u2019utilisation commerciale - Partage dans les m\u00eames conditions 4.0\n",
      "International \u00bb .\n",
      "\n",
      "<div style=\"text-align: center; margin-top:10px;\">\n",
      "    <img src=\"by-nc-sa.svg\">\n",
      "</div>\n",
      "\n",
      "Diff\u00e9rents formats de ce document sont disponibles pour le moment sur github \u00e0 l'adresse [https://github.com/projetmbc/books](https://github.com/projetmbc/books).\n",
      "Voir le dossier `program[mation]/python3/toolboxes/fr/beginner`."
     ]
    },
    {
     "cell_type": "markdown",
     "metadata": {},
     "source": [
      "G\u00e9n\u00e9ralit\u00e9s\n",
      "-----------\n",
      "\n",
      "1. [Programmer, c'est quoi ?](content/general/programming.ipynb)\n",
      "1. [Le choix de Python](content/general/python_choice.ipynb)\n",
      "1. [Installer Python 3](content/general/python_env.ipynb)\n",
      "1. [Utilisez des algorithmes !](content/general/algorithmic.ipynb)"
     ]
    },
    {
     "cell_type": "markdown",
     "metadata": {},
     "source": [
      "Python 3, comment fait-on ?\n",
      "---------------------------\n",
      "\n",
      "1. [Comment taper et utiliser un programme \u00e9crit en Python](content/howto/use_python.ipynb)\n",
      "1. [Commenter, c'est important](content/howto/comment.ipynb)\n",
      "1. [Communiquer basiquement avec l'utilisateur](content/howto/ui_basic.ipynb)\n",
      "1. [Textes](content/howto/string.ipynb)\n",
      "1. [Les nombres - Diff\u00e9rents types](content/howto/number_type.ipynb)\n",
      "1. [Les nombres - Comment les manipuler](content/howto/number_manipulation.ipynb)\n",
      "1. [Les bool\u00e9ens `VRAI` et `FAUX`](content/howto/bool.ipynb)\n",
      "1. [Comparer c'est tester](content/howto/compare.ipynb)\n",
      "1. [Agir si quelque chose est v\u00e9rifi\u00e9e](content/howto/branch.ipynb)\n",
      "1. [R\u00e9p\u00e9ter des actions](content/howto/loop.ipynb)\n",
      "1. [Listes](content/howto/list.ipynb)\n",
      "1. [Ensembles](content/howto/set.ipynb)\n",
      "1. [Dictionnaires - Associer des cl\u00e9s \u00e0 des valeurs](content/howto/dict.ipynb)\n",
      "1. [Parcourir les textes, les listes, les ensembles et les dictionnaires](content/howto/browse.ipynb)\n",
      "1. [Tests li\u00e9s aux textes, aux listes, aux ensembles et aux dictionnaires](content/howto/testing_text_and_co.ipynb)\n",
      "1. [Organiser son code - Les fonctions](content/howto/function.ipynb)"
     ]
    }
   ],
   "metadata": {}
  }
 ]
}